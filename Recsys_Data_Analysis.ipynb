{
  "nbformat": 4,
  "nbformat_minor": 0,
  "metadata": {
    "colab": {
      "name": "Recsys-Data_Analysis.ipynb",
      "version": "0.3.2",
      "provenance": [],
      "collapsed_sections": [],
      "toc_visible": true,
      "include_colab_link": true
    },
    "kernelspec": {
      "name": "python3",
      "display_name": "Python 3"
    }
  },
  "cells": [
    {
      "cell_type": "markdown",
      "metadata": {
        "id": "view-in-github",
        "colab_type": "text"
      },
      "source": [
        "[View in Colaboratory](https://colab.research.google.com/github/paulanavarretec/RecSys-Tarea1/blob/master/Recsys_Data_Analysis.ipynb)"
      ]
    },
    {
      "metadata": {
        "id": "o8wMfE6dlY7i",
        "colab_type": "text"
      },
      "cell_type": "markdown",
      "source": [
        "# Recommender Algorithms for a Beer Selling platform\n",
        "\n",
        "\n",
        "---\n",
        "\n",
        "\n",
        "\n",
        "In this asisgnment we developed several Recommender algorithms and test their performance. We used pyreclab Python library, developed by IALab & SocVis from the Pontifical Catholic University of Chile.\n",
        "\n",
        "The algorithms to be perfomed ahead are:\n",
        "\n",
        "- UserKnn\n",
        "\n",
        "- ItemKnn\n",
        "\n",
        "- SlopeOne\n",
        "\n",
        "- SVD\n",
        "\n",
        "- ALS o ALScg: (este modelo lo puede usar para la tarea de ranking. Si tiene problemas con pyreclab, puede usar la biblioteca implicit1)."
      ]
    },
    {
      "metadata": {
        "id": "doP0NFdIKTjW",
        "colab_type": "text"
      },
      "cell_type": "markdown",
      "source": [
        "# Data Load and Exploration\n",
        "\n",
        "First step is to download to local computer the relevant files through the following links:\n",
        "\n",
        "(update links\n",
        "- Train file: https://drive.google.com/file/d/1Anro2DyEgN0sUHXFyxVe2qoSya6hzQSp/view?usp=sharing\n",
        "\n",
        "- Test File: https://drive.google.com/file/d/1Awy3QKCdkSpNeRXATqRBUMi56M47Ia0n/view?usp=sharing\n",
        "\n",
        "- Ranking File: https://drive.google.com/file/d/1B7QhEodQ13QlOHOTp9zaa52exlfgAOl3/view?usp=sharing\n",
        "\n",
        "And then upload them."
      ]
    },
    {
      "metadata": {
        "id": "mH3rcvKnlIpu",
        "colab_type": "code",
        "colab": {
          "resources": {
            "http://localhost:8080/nbextensions/google.colab/files.js": {
              "data": "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",
              "ok": true,
              "headers": [
                [
                  "content-type",
                  "application/javascript"
                ]
              ],
              "status": 200,
              "status_text": ""
            }
          },
          "base_uri": "https://localhost:8080/",
          "height": 140
        },
        "outputId": "3da55a55-8c4c-4205-b9b4-3813677e45b0"
      },
      "cell_type": "code",
      "source": [
        "#Run this cell if working con Colab. You must upload the files to be used in the analysis: training_data.csv, test_rating_data.csv y ranking_users.txt\n",
        "from google.colab import files\n",
        "uploaded = files.upload()"
      ],
      "execution_count": 1,
      "outputs": [
        {
          "output_type": "display_data",
          "data": {
            "text/html": [
              "\n",
              "     <input type=\"file\" id=\"files-44734c50-1e07-4597-8f27-fda64c0e54bf\" name=\"files[]\" multiple disabled />\n",
              "     <output id=\"result-44734c50-1e07-4597-8f27-fda64c0e54bf\">\n",
              "      Upload widget is only available when the cell has been executed in the\n",
              "      current browser session. Please rerun this cell to enable.\n",
              "      </output>\n",
              "      <script src=\"/nbextensions/google.colab/files.js\"></script> "
            ],
            "text/plain": [
              "<IPython.core.display.HTML object>"
            ]
          },
          "metadata": {
            "tags": []
          }
        },
        {
          "output_type": "stream",
          "text": [
            "Saving ranking_users.txt to ranking_users.txt\n",
            "Saving test_rating_data.csv to test_rating_data.csv\n",
            "Saving training_data.csv to training_data.csv\n"
          ],
          "name": "stdout"
        }
      ]
    },
    {
      "metadata": {
        "id": "CWpMZgq2XJdR",
        "colab_type": "text"
      },
      "cell_type": "markdown",
      "source": [
        "*training_data.csv* and *test_data.csv* files have tuples of the form {'obsNo', 'userID',  'itemID',  'styleID', 'rating', 'brewerID', 'timestamp'} wich is the information of user preferences among the diferent beer features.\n",
        "\n",
        "Let's load the files into pandas data structure to be handled:"
      ]
    },
    {
      "metadata": {
        "id": "jpg-MmOZX6eF",
        "colab_type": "code",
        "colab": {}
      },
      "cell_type": "code",
      "source": [
        "#Import library\n",
        "import pandas as pd\n",
        "\n",
        "#Read both train and test files into separate data structures\n",
        "train_file = pd.read_csv('training_data.csv',\n",
        "                         sep=',',\n",
        "                         names = ['obsNo','userID', 'itemID', 'styleID', 'rating','brewerID','timestamp'],\n",
        "                         header=0)\n",
        "\n",
        "test_file = pd.read_csv('test_rating_data.csv',                    \n",
        "                         sep=',',\n",
        "                         names = ['obsNo','itemID',  'styleID',  'userID',  'brewerID',   'timestamp'],\n",
        "                         header=0)"
      ],
      "execution_count": 0,
      "outputs": []
    },
    {
      "metadata": {
        "id": "Y0kfJ1VvakOk",
        "colab_type": "text"
      },
      "cell_type": "markdown",
      "source": [
        "### Looking at the numbers \n",
        "\n",
        "The head and tail of the training_data.csv can be visualized as follows, among with the other columns."
      ]
    },
    {
      "metadata": {
        "id": "tRh76tTBbNlF",
        "colab_type": "code",
        "colab": {
          "base_uri": "https://localhost:8080/",
          "height": 252
        },
        "outputId": "0007c895-46c3-4d53-e45b-e9b25681cdef"
      },
      "cell_type": "code",
      "source": [
        "print(train_file.head())\n",
        "print(train_file.tail(),'\\n\\n')"
      ],
      "execution_count": 3,
      "outputs": [
        {
          "output_type": "stream",
          "text": [
            "   obsNo  userID  itemID  styleID  rating  brewerID   timestamp\n",
            "0      0    4924   11757       84     4.5      1199  1247372118\n",
            "1      1    4924    5441        2     4.5      1199  1209176445\n",
            "2      2    4924   19960       84     5.0      1199  1223914717\n",
            "3      3    2916   55900       80     2.5      1199  1291336093\n",
            "4      4    2916   57110       73     4.0     14879  1279318326\n",
            "       obsNo  userID  itemID  styleID  rating  brewerID   timestamp\n",
            "44347  44374    3230   11757       84     5.0      1199  1286494547\n",
            "44348  44375    4630   11757       84     2.5      1199  1254948632\n",
            "44349  44376    6118   20470       64     4.0       394  1204330634\n",
            "44350  44377    6118    1324       59     3.5       263  1212967655\n",
            "44351  44378    7268    1504       13     5.0       568  1157647130 \n",
            "\n",
            "\n"
          ],
          "name": "stdout"
        }
      ]
    },
    {
      "metadata": {
        "id": "SS5cRpfVHreA",
        "colab_type": "text"
      },
      "cell_type": "markdown",
      "source": [
        "As we can see, users and items are represented by an integer, style and brewer too, rating is represented with a decimal  numer and they all range in a wide spectrum. But we need a little bit more information to see if we have enough users and/or items to be able to predict something.\n",
        "\n",
        "Let's get some stats out of the sample. The following code gets the total number of unique instances for each column, i.e. how many different users,  items, styles, rating, brewerID and timestamps there are:"
      ]
    },
    {
      "metadata": {
        "id": "x6pjeMoQDmMH",
        "colab_type": "code",
        "colab": {
          "base_uri": "https://localhost:8080/",
          "height": 151
        },
        "outputId": "472d08c3-e2c5-45df-a5ba-e52c44ac1a16"
      },
      "cell_type": "code",
      "source": [
        "print(train_file.nunique())"
      ],
      "execution_count": 4,
      "outputs": [
        {
          "output_type": "stream",
          "text": [
            "obsNo        44352\n",
            "userID        8318\n",
            "itemID        1836\n",
            "styleID         95\n",
            "rating          10\n",
            "brewerID       210\n",
            "timestamp    43905\n",
            "dtype: int64\n"
          ],
          "name": "stdout"
        }
      ]
    },
    {
      "metadata": {
        "id": "ZBJgba2itJc0",
        "colab_type": "text"
      },
      "cell_type": "markdown",
      "source": [
        "This is nice because we have a large sample, compounded by many (but a lot less) items and users and we have more users than items (as spected). We have ten different decimal ratings (we guess 0 to 10 incremented by 0.5). We have a lot less different styles and brewers.\n",
        "\n",
        "### Summary statistics\n",
        "\n",
        "Now, let's take a deeper look into de shape of the data, to do that, we use different statistic functions provided by pandas library. \n",
        "It is important to notice that the overall mean rating is 3.8 and the lowest 25% of the ratings are below 3.5 and the highest 25% of the ratings are above 4.5."
      ]
    },
    {
      "metadata": {
        "id": "UMDSEuvctSg-",
        "colab_type": "code",
        "colab": {
          "base_uri": "https://localhost:8080/",
          "height": 168
        },
        "outputId": "06b6cea7-dfa5-48e1-e8a5-68fa2f33052d"
      },
      "cell_type": "code",
      "source": [
        "# print('Summary\\n\\n',train_file.describe(),'\\n')\n",
        "# get description of the rating attribute\n",
        "train_file['rating'].describe()"
      ],
      "execution_count": 5,
      "outputs": [
        {
          "output_type": "execute_result",
          "data": {
            "text/plain": [
              "count    44352.000000\n",
              "mean         3.864910\n",
              "std          0.712695\n",
              "min          0.000000\n",
              "25%          3.500000\n",
              "50%          4.000000\n",
              "75%          4.500000\n",
              "max          5.000000\n",
              "Name: rating, dtype: float64"
            ]
          },
          "metadata": {
            "tags": []
          },
          "execution_count": 5
        }
      ]
    },
    {
      "metadata": {
        "id": "Pppm3GP1OlPs",
        "colab_type": "code",
        "colab": {
          "base_uri": "https://localhost:8080/",
          "height": 34
        },
        "outputId": "74b6be92-1742-4424-fcd3-9ebf61ae09a2"
      },
      "cell_type": "code",
      "source": [
        "# print('Variance:\\n',train_file.var(),'\\n')    # Sample variance of rating values\n",
        "train_file['rating'].var()"
      ],
      "execution_count": 6,
      "outputs": [
        {
          "output_type": "execute_result",
          "data": {
            "text/plain": [
              "0.5079335267039778"
            ]
          },
          "metadata": {
            "tags": []
          },
          "execution_count": 6
        }
      ]
    },
    {
      "metadata": {
        "id": "UN5TLYhnOqI1",
        "colab_type": "code",
        "colab": {
          "base_uri": "https://localhost:8080/",
          "height": 34
        },
        "outputId": "108c6ea9-5933-4a3f-ea85-591abac84869"
      },
      "cell_type": "code",
      "source": [
        "# print('Standard deviation:\\n',train_file.std(),'\\n')     # Sample standard deviation of rating values\n",
        "train_file['rating'].std()"
      ],
      "execution_count": 7,
      "outputs": [
        {
          "output_type": "execute_result",
          "data": {
            "text/plain": [
              "0.7126945535809698"
            ]
          },
          "metadata": {
            "tags": []
          },
          "execution_count": 7
        }
      ]
    },
    {
      "metadata": {
        "id": "_T_L1zpJsvfv",
        "colab_type": "text"
      },
      "cell_type": "markdown",
      "source": [
        "Skewness is a measure for symmetry, and encompases the lack of it. Any symmetric data should have a skewness near zero: negative values indicate data that are skewed left and positive values for the skewness indicate data that are skewed right. By skewed left, we mean that the left tail is long relative to the right tail and the skewness of our data refects this."
      ]
    },
    {
      "metadata": {
        "id": "-XNStXyZOsIf",
        "colab_type": "code",
        "colab": {
          "base_uri": "https://localhost:8080/",
          "height": 34
        },
        "outputId": "a73371a5-8991-4153-e69e-495cce2640e9"
      },
      "cell_type": "code",
      "source": [
        "# Get Skewness of rating values\n",
        "# print('Skew:\\n',train_file.skew(),'\\n')    \n",
        "train_file['rating'].skew()"
      ],
      "execution_count": 8,
      "outputs": [
        {
          "output_type": "execute_result",
          "data": {
            "text/plain": [
              "-1.0136247168640184"
            ]
          },
          "metadata": {
            "tags": []
          },
          "execution_count": 8
        }
      ]
    },
    {
      "metadata": {
        "id": "NEDWKBYnstGg",
        "colab_type": "text"
      },
      "cell_type": "markdown",
      "source": [
        "Kurtosis is a measure of whether the data are heavy-tailed or light-tailed relative to a normal distribution wich has a kurtosis of zero. Data sets with high kurtosis (positive values) tend to have heavy tails, or outliers and data sets with low kurtosis (negative valueas) tend to have light tails, or lack of outliers. "
      ]
    },
    {
      "metadata": {
        "id": "KWO6UnarOKjY",
        "colab_type": "code",
        "colab": {
          "base_uri": "https://localhost:8080/",
          "height": 34
        },
        "outputId": "558a05a1-4736-41ef-b361-bb80bc909654"
      },
      "cell_type": "code",
      "source": [
        "# print('Kurtosis:\\n',train_file.kurt(),'\\n')    # Kurtosis of rating values\n",
        "train_file['rating'].kurt()"
      ],
      "execution_count": 9,
      "outputs": [
        {
          "output_type": "execute_result",
          "data": {
            "text/plain": [
              "1.6312861143143267"
            ]
          },
          "metadata": {
            "tags": []
          },
          "execution_count": 9
        }
      ]
    },
    {
      "metadata": {
        "id": "hwoDvnN30j1i",
        "colab_type": "text"
      },
      "cell_type": "markdown",
      "source": [
        "All characteristics mentioned can also be seen in the folowing figure. We can appreciate the ratings are biased towards the 4.0, and they tend to accumulate around "
      ]
    },
    {
      "metadata": {
        "id": "L4qBtHx6u4uF",
        "colab_type": "code",
        "colab": {
          "base_uri": "https://localhost:8080/",
          "height": 401
        },
        "outputId": "4b95a183-f6f8-4b1a-8480-daf567316785"
      },
      "cell_type": "code",
      "source": [
        "# Rating density plot\n",
        "\n",
        "ax = train_file.rating.plot(kind='hist')\n",
        "ax.set_title('Density for Overall Ratings', fontsize=18)\n",
        "ax.set_xlabel('Rating', fontsize=14)\n",
        "\n",
        "train_file.rating.plot(kind='kde', ax=ax, secondary_y=True)"
      ],
      "execution_count": 10,
      "outputs": [
        {
          "output_type": "execute_result",
          "data": {
            "text/plain": [
              "<matplotlib.axes._subplots.AxesSubplot at 0x7f0776fe9240>"
            ]
          },
          "metadata": {
            "tags": []
          },
          "execution_count": 10
        },
        {
          "output_type": "display_data",
          "data": {
            "image/png": "[encoded data removed]",
            "text/plain": [
              "<matplotlib.figure.Figure at 0x7f078d3c4cc0>"
            ]
          },
          "metadata": {
            "tags": []
          }
        }
      ]
    },
    {
      "metadata": {
        "id": "Loj5bxdTPPBJ",
        "colab_type": "text"
      },
      "cell_type": "markdown",
      "source": [
        "## Dataset Density\n",
        "\n",
        "Now, let's see all these tendencies we've resumed in the numbers just examined. First I plot the density function of the user rankings. The following plot depicts the frecuency for the y-axis of reviews per user and a probability density function."
      ]
    },
    {
      "metadata": {
        "id": "OqMJgzYuehOh",
        "colab_type": "code",
        "colab": {
          "base_uri": "https://localhost:8080/",
          "height": 401
        },
        "outputId": "cc3d7f24-ad2f-45c8-bd50-81d4c225e61c"
      },
      "cell_type": "code",
      "source": [
        "# train_file['userID'].plot.kde() \n",
        "# train_file['userID'].plot.hist() # or alternatively\n",
        "\n",
        "ax = train_file.userID.plot(kind='hist')\n",
        "ax.set_title('Density for User observations', fontsize=18)\n",
        "ax.set_xlabel('User ID', fontsize=14)\n",
        "\n",
        "train_file.userID.plot(kind='kde', ax=ax, secondary_y=True)"
      ],
      "execution_count": 11,
      "outputs": [
        {
          "output_type": "execute_result",
          "data": {
            "text/plain": [
              "<matplotlib.axes._subplots.AxesSubplot at 0x7f07746e2080>"
            ]
          },
          "metadata": {
            "tags": []
          },
          "execution_count": 11
        },
        {
          "output_type": "display_data",
          "data": {
            "image/png": "[encoded data removed]",
            "text/plain": [
              "<matplotlib.figure.Figure at 0x7f0776fb9208>"
            ]
          },
          "metadata": {
            "tags": []
          }
        }
      ]
    },
    {
      "metadata": {
        "id": "wFS_JeP106rD",
        "colab_type": "text"
      },
      "cell_type": "markdown",
      "source": [
        "We can take a chek skewness and kurtosis and confirm bigger right tail and lack of outliers."
      ]
    },
    {
      "metadata": {
        "id": "5FhKYWyw059f",
        "colab_type": "code",
        "colab": {
          "base_uri": "https://localhost:8080/",
          "height": 50
        },
        "outputId": "b4fe51ca-8316-422d-b4e7-b4273a5fc15c"
      },
      "cell_type": "code",
      "source": [
        "# Get Skewness of rating values \n",
        "print('Skewness: ',train_file['userID'].skew())\n",
        "print('Kurtosis: ',train_file['userID'].kurt())"
      ],
      "execution_count": 12,
      "outputs": [
        {
          "output_type": "stream",
          "text": [
            "Skewness:  0.4976564576757495\n",
            "Kurtosis:  -0.9416296240560209\n"
          ],
          "name": "stdout"
        }
      ]
    },
    {
      "metadata": {
        "id": "3wtRtMBN0Orh",
        "colab_type": "code",
        "colab": {
          "base_uri": "https://localhost:8080/",
          "height": 401
        },
        "outputId": "c3417397-b0d7-4f65-c749-e35c407da958"
      },
      "cell_type": "code",
      "source": [
        "# train_file['userID'].plot.kde() \n",
        "# train_file['userID'].plot.hist() # or alternatively\n",
        "\n",
        "ax = train_file.userID.plot(kind='hist')\n",
        "ax.set_title('Density for User Observations', fontsize=18)\n",
        "ax.set_xlabel('UserID', fontsize=14)\n",
        "train_file.userID.plot(kind='kde', ax=ax, secondary_y=True)\n"
      ],
      "execution_count": 13,
      "outputs": [
        {
          "output_type": "execute_result",
          "data": {
            "text/plain": [
              "<matplotlib.axes._subplots.AxesSubplot at 0x7f0774622128>"
            ]
          },
          "metadata": {
            "tags": []
          },
          "execution_count": 13
        },
        {
          "output_type": "display_data",
          "data": {
            "image/png": "[encoded data removed]",
            "text/plain": [
              "<matplotlib.figure.Figure at 0x7f0777052e48>"
            ]
          },
          "metadata": {
            "tags": []
          }
        }
      ]
    },
    {
      "metadata": {
        "id": "VfRuB2iGTOXP",
        "colab_type": "text"
      },
      "cell_type": "markdown",
      "source": [
        "The shape is congruent with the tendency to have less users in the beginnig (the so*-called* early adopters) giving lots of ratings and helping the system to learn, and afterwads, a lot of new users giving a lot of less reviews. \n",
        "\n",
        "The same can be chequed out analogously for the items."
      ]
    },
    {
      "metadata": {
        "id": "3kgRcFdxhAd1",
        "colab_type": "code",
        "colab": {
          "base_uri": "https://localhost:8080/",
          "height": 401
        },
        "outputId": "74b6524e-5a78-4ab8-a1af-ea37929f1511"
      },
      "cell_type": "code",
      "source": [
        "ax = train_file.itemID.plot(kind='hist')\n",
        "\n",
        "ax.set_title('Density for Item Observations', fontsize=18)\n",
        "ax.set_xlabel('ItemID', fontsize=14)\n",
        "train_file.itemID.plot(kind='kde', ax=ax, secondary_y=True)"
      ],
      "execution_count": 14,
      "outputs": [
        {
          "output_type": "execute_result",
          "data": {
            "text/plain": [
              "<matplotlib.axes._subplots.AxesSubplot at 0x7f07745dc828>"
            ]
          },
          "metadata": {
            "tags": []
          },
          "execution_count": 14
        },
        {
          "output_type": "display_data",
          "data": {
            "image/png": "[encoded data removed]",
            "text/plain": [
              "<matplotlib.figure.Figure at 0x7f07778a6c18>"
            ]
          },
          "metadata": {
            "tags": []
          }
        }
      ]
    },
    {
      "metadata": {
        "id": "k6mcXR6pVlW6",
        "colab_type": "text"
      },
      "cell_type": "markdown",
      "source": [
        "It is interesting what this plot shows. We can see a sort of different waves, characterized by a peak of ratings for some items, but a comparable bigger tail of items rated comparatively less. This may suggest that new items were introduced in 4 to 5 waves along time, where we initial introductions brought several more reviews per item introduced than the later, making sense with the previous analysis of users."
      ]
    },
    {
      "metadata": {
        "id": "KB0-gpQ7YRos",
        "colab_type": "text"
      },
      "cell_type": "markdown",
      "source": [
        "## Dataset Distribution\n",
        "\n"
      ]
    },
    {
      "metadata": {
        "id": "QbUDhLLWVEkn",
        "colab_type": "text"
      },
      "cell_type": "markdown",
      "source": [
        "### user/item Distribution\n",
        "\n",
        "we created a new dataframe containing number of ratings per user."
      ]
    },
    {
      "metadata": {
        "id": "ObKYxIFQN1BN",
        "colab_type": "code",
        "colab": {
          "base_uri": "https://localhost:8080/",
          "height": 296
        },
        "outputId": "054cc63f-2e0d-4790-d79b-3fc67d02a5c6"
      },
      "cell_type": "code",
      "source": [
        "# Group the matrix by userID, call its frecuency as userRatings and\n",
        "# sort it in a descendig order for user ratings.\n",
        "# print its first and last values\n",
        "\n",
        "df=(train_file.groupby(['userID']).size().reset_index(name='userRatings')).sort_values('userRatings', ascending=False)\n",
        "print(df.head())\n",
        "(df.tail())"
      ],
      "execution_count": 31,
      "outputs": [
        {
          "output_type": "stream",
          "text": [
            "     userID  userRatings\n",
            "12       13          181\n",
            "23       24          129\n",
            "489     490          115\n",
            "99      100          111\n",
            "694     695          106\n"
          ],
          "name": "stdout"
        },
        {
          "output_type": "execute_result",
          "data": {
            "text/html": [
              "<div>\n",
              "<style scoped>\n",
              "    .dataframe tbody tr th:only-of-type {\n",
              "        vertical-align: middle;\n",
              "    }\n",
              "\n",
              "    .dataframe tbody tr th {\n",
              "        vertical-align: top;\n",
              "    }\n",
              "\n",
              "    .dataframe thead th {\n",
              "        text-align: right;\n",
              "    }\n",
              "</style>\n",
              "<table border=\"1\" class=\"dataframe\">\n",
              "  <thead>\n",
              "    <tr style=\"text-align: right;\">\n",
              "      <th></th>\n",
              "      <th>userID</th>\n",
              "      <th>userRatings</th>\n",
              "    </tr>\n",
              "  </thead>\n",
              "  <tbody>\n",
              "    <tr>\n",
              "      <th>5503</th>\n",
              "      <td>5505</td>\n",
              "      <td>1</td>\n",
              "    </tr>\n",
              "    <tr>\n",
              "      <th>2611</th>\n",
              "      <td>2612</td>\n",
              "      <td>1</td>\n",
              "    </tr>\n",
              "    <tr>\n",
              "      <th>2608</th>\n",
              "      <td>2609</td>\n",
              "      <td>1</td>\n",
              "    </tr>\n",
              "    <tr>\n",
              "      <th>2606</th>\n",
              "      <td>2607</td>\n",
              "      <td>1</td>\n",
              "    </tr>\n",
              "    <tr>\n",
              "      <th>8317</th>\n",
              "      <td>8320</td>\n",
              "      <td>1</td>\n",
              "    </tr>\n",
              "  </tbody>\n",
              "</table>\n",
              "</div>"
            ],
            "text/plain": [
              "      userID  userRatings\n",
              "5503    5505            1\n",
              "2611    2612            1\n",
              "2608    2609            1\n",
              "2606    2607            1\n",
              "8317    8320            1"
            ]
          },
          "metadata": {
            "tags": []
          },
          "execution_count": 31
        }
      ]
    },
    {
      "metadata": {
        "id": "cglwEwEb4eaY",
        "colab_type": "code",
        "colab": {
          "base_uri": "https://localhost:8080/",
          "height": 284
        },
        "outputId": "1ef9973c-cfe3-4e7b-f032-700065c1d270"
      },
      "cell_type": "code",
      "source": [
        "# Get Summary statistics\n",
        "df.describe()"
      ],
      "execution_count": 32,
      "outputs": [
        {
          "output_type": "execute_result",
          "data": {
            "text/html": [
              "<div>\n",
              "<style scoped>\n",
              "    .dataframe tbody tr th:only-of-type {\n",
              "        vertical-align: middle;\n",
              "    }\n",
              "\n",
              "    .dataframe tbody tr th {\n",
              "        vertical-align: top;\n",
              "    }\n",
              "\n",
              "    .dataframe thead th {\n",
              "        text-align: right;\n",
              "    }\n",
              "</style>\n",
              "<table border=\"1\" class=\"dataframe\">\n",
              "  <thead>\n",
              "    <tr style=\"text-align: right;\">\n",
              "      <th></th>\n",
              "      <th>userID</th>\n",
              "      <th>userRatings</th>\n",
              "    </tr>\n",
              "  </thead>\n",
              "  <tbody>\n",
              "    <tr>\n",
              "      <th>count</th>\n",
              "      <td>8318.000000</td>\n",
              "      <td>8318.000000</td>\n",
              "    </tr>\n",
              "    <tr>\n",
              "      <th>mean</th>\n",
              "      <td>4159.914883</td>\n",
              "      <td>5.332051</td>\n",
              "    </tr>\n",
              "    <tr>\n",
              "      <th>std</th>\n",
              "      <td>2401.778933</td>\n",
              "      <td>9.921520</td>\n",
              "    </tr>\n",
              "    <tr>\n",
              "      <th>min</th>\n",
              "      <td>1.000000</td>\n",
              "      <td>1.000000</td>\n",
              "    </tr>\n",
              "    <tr>\n",
              "      <th>25%</th>\n",
              "      <td>2080.250000</td>\n",
              "      <td>1.000000</td>\n",
              "    </tr>\n",
              "    <tr>\n",
              "      <th>50%</th>\n",
              "      <td>4159.500000</td>\n",
              "      <td>2.000000</td>\n",
              "    </tr>\n",
              "    <tr>\n",
              "      <th>75%</th>\n",
              "      <td>6239.750000</td>\n",
              "      <td>5.000000</td>\n",
              "    </tr>\n",
              "    <tr>\n",
              "      <th>max</th>\n",
              "      <td>8320.000000</td>\n",
              "      <td>181.000000</td>\n",
              "    </tr>\n",
              "  </tbody>\n",
              "</table>\n",
              "</div>"
            ],
            "text/plain": [
              "            userID  userRatings\n",
              "count  8318.000000  8318.000000\n",
              "mean   4159.914883     5.332051\n",
              "std    2401.778933     9.921520\n",
              "min       1.000000     1.000000\n",
              "25%    2080.250000     1.000000\n",
              "50%    4159.500000     2.000000\n",
              "75%    6239.750000     5.000000\n",
              "max    8320.000000   181.000000"
            ]
          },
          "metadata": {
            "tags": []
          },
          "execution_count": 32
        }
      ]
    },
    {
      "metadata": {
        "id": "Ped_45wbKbvr",
        "colab_type": "text"
      },
      "cell_type": "markdown",
      "source": [
        "This table is very informative, we can see that at least 25% of the users have given just 1 ranting, and that no more than 25% of the users have given more than 5 ratings. In average, users give 5 ratings."
      ]
    },
    {
      "metadata": {
        "id": "aQ2UKg9gLPmM",
        "colab_type": "code",
        "colab": {
          "base_uri": "https://localhost:8080/",
          "height": 50
        },
        "outputId": "c12b76fb-774a-4989-a57a-b27e8a29e4c3"
      },
      "cell_type": "code",
      "source": [
        "\n",
        "# Get Skewness and kurtosis for ratings per user frecuency\n",
        "print('Skewness: ',df['userRatings'].skew())\n",
        "print('Kurtosis: ',df['userRatings'].kurt())"
      ],
      "execution_count": 33,
      "outputs": [
        {
          "output_type": "stream",
          "text": [
            "Skewness:  5.023945526673108\n",
            "Kurtosis:  38.68445514758519\n"
          ],
          "name": "stdout"
        }
      ]
    },
    {
      "metadata": {
        "id": "_FSJKwAm8MiM",
        "colab_type": "text"
      },
      "cell_type": "markdown",
      "source": [
        "The positive value for the skewness indicates that the right tail is bigger than the left, wich is consistent with our previous knowledge that there should be many users rating few items and much more less rating a lot. The kustosis high value is also consistent with this, showing the presence of outliers (users at the top of table). This can be clearly seen in the distribution figure below."
      ]
    },
    {
      "metadata": {
        "id": "RnL-2pj423lV",
        "colab_type": "code",
        "colab": {
          "base_uri": "https://localhost:8080/",
          "height": 401
        },
        "outputId": "c53e50d8-cdda-4bc1-b300-7fd72572c170"
      },
      "cell_type": "code",
      "source": [
        "ax = df.userRatings.plot(kind='hist')\n",
        "\n",
        "ax.set_title('User ID Density for number of Ratings', fontsize=18)\n",
        "ax.set_xlabel('Number of Ratings', fontsize=14)\n",
        "df.userRatings.plot(kind='kde', ax=ax, secondary_y=True)"
      ],
      "execution_count": 39,
      "outputs": [
        {
          "output_type": "execute_result",
          "data": {
            "text/plain": [
              "<matplotlib.axes._subplots.AxesSubplot at 0x7f0773b2dc88>"
            ]
          },
          "metadata": {
            "tags": []
          },
          "execution_count": 39
        },
        {
          "output_type": "display_data",
          "data": {
            "image/png": "[encoded data removed]",
            "text/plain": [
              "<matplotlib.figure.Figure at 0x7f0773f54080>"
            ]
          },
          "metadata": {
            "tags": []
          }
        }
      ]
    },
    {
      "metadata": {
        "id": "uutVhMyq-nSk",
        "colab_type": "text"
      },
      "cell_type": "markdown",
      "source": [
        "Although, the above figure relates *userID* with number of ratings, this tells us that the users with very few ratings are the ones with higher *userID* (maybe the ones that joined the system afterwards the *early adopters*), we can work the data a little so we can explore how the distribution of number of ratings per user behaves."
      ]
    },
    {
      "metadata": {
        "id": "b0YlfzUi8l78",
        "colab_type": "code",
        "colab": {
          "base_uri": "https://localhost:8080/",
          "height": 418
        },
        "outputId": "dfdaed5f-0d08-4b70-ab36-510dca53c89a"
      },
      "cell_type": "code",
      "source": [
        "df = train_file.groupby(['userID']).size().reset_index(name='userRatings').sort_values('userRatings', ascending=False)\n",
        "\n",
        "df = df.groupby('userRatings').count().reset_index()\n",
        "df.columns=['userRatings','count']\n",
        "\n",
        "# Check to see that it sums up the total number of users\n",
        "print(df['count'].sum())\n",
        "\n",
        "# Usefull information\n",
        "print(df.head())\n",
        "print(df.tail())\n",
        "\n",
        "print(df.describe())\n",
        "\n",
        "# Get Description, Skewness and kurtosis for ratings per user frecuency\n",
        "print('Skewness: ',df['userRatings'].skew())\n",
        "print('Kurtosis: ',df['userRatings'].kurt())"
      ],
      "execution_count": 41,
      "outputs": [
        {
          "output_type": "stream",
          "text": [
            "8318\n",
            "   userRatings  count\n",
            "0            1   3918\n",
            "1            2    992\n",
            "2            3    584\n",
            "3            4    600\n",
            "4            5    434\n",
            "    userRatings  count\n",
            "84          106      1\n",
            "85          111      1\n",
            "86          115      1\n",
            "87          129      1\n",
            "88          181      1\n",
            "       userRatings        count\n",
            "count    89.000000    89.000000\n",
            "mean     48.865169    93.460674\n",
            "std      33.198505   434.369869\n",
            "min       1.000000     1.000000\n",
            "25%      23.000000     2.000000\n",
            "50%      45.000000     7.000000\n",
            "75%      70.000000    29.000000\n",
            "max     181.000000  3918.000000\n",
            "Skewness:  0.9624353670943612\n",
            "Kurtosis:  1.6752496252076026\n"
          ],
          "name": "stdout"
        }
      ]
    },
    {
      "metadata": {
        "id": "iFvhes5OLjKv",
        "colab_type": "text"
      },
      "cell_type": "markdown",
      "source": [
        "The positive value for the skewness indicates that the right tail is bigger than the left, wich is consistent with our previous knowledge that there should be few users rating a lot of items and substantially more rating just a few. The kustosis positive value is also consistent with this, showing the presence of outliers (users at the top of table that are far away from the mean). This can be clearly seen in the distribution figure below."
      ]
    },
    {
      "metadata": {
        "id": "IAj51ZzYBvk7",
        "colab_type": "code",
        "colab": {
          "base_uri": "https://localhost:8080/",
          "height": 401
        },
        "outputId": "26cd9171-e3a4-4c89-92b8-f3633d256e20"
      },
      "cell_type": "code",
      "source": [
        "ax = df.userRatings.plot(kind='hist')\n",
        "\n",
        "ax.set_title('Density for Ratings per User', fontsize=18)\n",
        "ax.set_xlabel('Ratings per User', fontsize=14)\n",
        "df.userRatings.plot(kind='kde', ax=ax, secondary_y=True)"
      ],
      "execution_count": 20,
      "outputs": [
        {
          "output_type": "execute_result",
          "data": {
            "text/plain": [
              "<matplotlib.axes._subplots.AxesSubplot at 0x7f07744064a8>"
            ]
          },
          "metadata": {
            "tags": []
          },
          "execution_count": 20
        },
        {
          "output_type": "display_data",
          "data": {
            "image/png": "[encoded data removed]",
            "text/plain": [
              "<matplotlib.figure.Figure at 0x7f0774714e10>"
            ]
          },
          "metadata": {
            "tags": []
          }
        }
      ]
    },
    {
      "metadata": {
        "id": "OezS16cRNhFZ",
        "colab_type": "text"
      },
      "cell_type": "markdown",
      "source": [
        "### item/user Distribution\n",
        "\n",
        "Making the same analysis as before for the rated items distribution, we created a new dataframe containing number of ratings per item."
      ]
    },
    {
      "metadata": {
        "id": "LOJ_CLRcAvoj",
        "colab_type": "code",
        "colab": {
          "base_uri": "https://localhost:8080/",
          "height": 217
        },
        "outputId": "2925a483-8434-49b1-b845-c72119c17e2b"
      },
      "cell_type": "code",
      "source": [
        "# Group the matrix by itemID, call its frecuency as itemRatings and\n",
        "# sort it in a descendig order for item ratings.\n",
        "# print its first and last values\n",
        "\n",
        "df=(train_file.groupby(['itemID']).size().reset_index(name='itemRatings')).sort_values('itemRatings', ascending=False)\n",
        "print(df.head())\n",
        "print(df.tail())\n"
      ],
      "execution_count": 43,
      "outputs": [
        {
          "output_type": "stream",
          "text": [
            "     itemID  itemRatings\n",
            "244   11757         2205\n",
            "414   19960         1679\n",
            "331   16074         1260\n",
            "118    5441         1252\n",
            "3       429         1182\n",
            "      itemID  itemRatings\n",
            "1137   50083            1\n",
            "1139   50089            1\n",
            "1140   50215            1\n",
            "325    15655            1\n",
            "1835   77207            1\n"
          ],
          "name": "stdout"
        }
      ]
    },
    {
      "metadata": {
        "id": "309UsfbdZgaL",
        "colab_type": "code",
        "colab": {
          "base_uri": "https://localhost:8080/",
          "height": 201
        },
        "outputId": "77db322a-7c48-4871-cec0-106ccaceed7b"
      },
      "cell_type": "code",
      "source": [
        "# Get Summary statistics\n",
        "print(df.describe())\n",
        "\n",
        "# Get Skewness and kurtosis for ratings per user frecuency\n",
        "print('Skewness: ',df['itemRatings'].skew())\n",
        "print('Kurtosis: ',df['itemRatings'].kurt())"
      ],
      "execution_count": 44,
      "outputs": [
        {
          "output_type": "stream",
          "text": [
            "            itemID  itemRatings\n",
            "count   1836.00000  1836.000000\n",
            "mean   40440.12037    24.156863\n",
            "std    22286.11968   113.849140\n",
            "min      175.00000     1.000000\n",
            "25%    21640.75000     1.000000\n",
            "50%    41525.50000     2.000000\n",
            "75%    60511.25000     7.000000\n",
            "max    77207.00000  2205.000000\n",
            "Skewness:  10.323106248359037\n",
            "Kurtosis:  136.4605471342013\n"
          ],
          "name": "stdout"
        }
      ]
    },
    {
      "metadata": {
        "id": "cG_im4fNMYN8",
        "colab_type": "text"
      },
      "cell_type": "markdown",
      "source": [
        "We can see that at least 25% of the items have been rated just once and that no more than 25% of the items have been rated more than 7 times. Items get approximately 24 ratings In average. \n",
        "The positive value for the skewness indicates that the right tail is bigger than the left, wich is consistent with our previous knowledge that there should be many items with few user ratings and much more less with a lot of rating. The kustosis extreme high value is also consistent with this, showing the presence of outliers (items at the top of table, we infer the *most popular* items). This can be clearly seen in the distribution figure below."
      ]
    },
    {
      "metadata": {
        "id": "6eO4A-NJRCut",
        "colab_type": "code",
        "colab": {
          "base_uri": "https://localhost:8080/",
          "height": 401
        },
        "outputId": "51c15f6b-a1c3-4f3a-9aba-108dd4c5f757"
      },
      "cell_type": "code",
      "source": [
        "ax = df.itemRatings.plot(kind='hist')\n",
        "\n",
        "ax.set_title('Item ID Density for number of Ratings', fontsize=18)\n",
        "ax.set_xlabel('Number of Ratings', fontsize=14)\n",
        "df.itemRatings.plot(kind='kde', ax=ax, secondary_y=True)"
      ],
      "execution_count": 46,
      "outputs": [
        {
          "output_type": "execute_result",
          "data": {
            "text/plain": [
              "<matplotlib.axes._subplots.AxesSubplot at 0x7f07739cd518>"
            ]
          },
          "metadata": {
            "tags": []
          },
          "execution_count": 46
        },
        {
          "output_type": "display_data",
          "data": {
            "image/png": "[encoded data removed]",
            "text/plain": [
              "<matplotlib.figure.Figure at 0x7f0773a26780>"
            ]
          },
          "metadata": {
            "tags": []
          }
        }
      ]
    },
    {
      "metadata": {
        "id": "FvwGXlblYand",
        "colab_type": "text"
      },
      "cell_type": "markdown",
      "source": [
        "Although, same as before, the figure relates itemID with number of ratings, this tells us that the items with a lot of ratings are the ones with lower itemID (maybe the items that joined the system in the first stages and got much more time of exposure to user than the later ones) , we can work the data so we can explore how the distribution of number of ratings per user behaves."
      ]
    },
    {
      "metadata": {
        "id": "5Zt5_HZhboPu",
        "colab_type": "code",
        "colab": {
          "base_uri": "https://localhost:8080/",
          "height": 418
        },
        "outputId": "dbd51a16-6fba-48b4-db34-d8e54b6339f9"
      },
      "cell_type": "code",
      "source": [
        "df = train_file.groupby(['itemID']).size().reset_index(name='itemRatings').sort_values('itemRatings', ascending=False)\n",
        "\n",
        "df = df.groupby('itemRatings').count().reset_index()\n",
        "df.columns=['itemRatings','count']\n",
        "\n",
        "# Check to see that it sums up the total number of users\n",
        "print(df['count'].sum())\n",
        "\n",
        "# Usefull information\n",
        "print(df.head())\n",
        "print(df.tail())\n",
        "\n",
        "print(df.describe())\n",
        "\n",
        "# Get Description, Skewness and kurtosis for ratings per user frecuency\n",
        "print('Skewness: ',df['itemRatings'].skew())\n",
        "print('Kurtosis: ',df['itemRatings'].kurt())"
      ],
      "execution_count": 47,
      "outputs": [
        {
          "output_type": "stream",
          "text": [
            "1836\n",
            "   itemRatings  count\n",
            "0            1    651\n",
            "1            2    304\n",
            "2            3    170\n",
            "3            4     94\n",
            "4            5     73\n",
            "     itemRatings  count\n",
            "150         1182      1\n",
            "151         1252      1\n",
            "152         1260      1\n",
            "153         1679      1\n",
            "154         2205      1\n",
            "       itemRatings       count\n",
            "count   155.000000  155.000000\n",
            "mean    217.122581   11.845161\n",
            "std     332.704626   59.620787\n",
            "min       1.000000    1.000000\n",
            "25%      40.000000    1.000000\n",
            "50%      85.000000    1.000000\n",
            "75%     233.000000    3.000000\n",
            "max    2205.000000  651.000000\n",
            "Skewness:  3.019017288706827\n",
            "Kurtosis:  11.141357980259977\n"
          ],
          "name": "stdout"
        }
      ]
    },
    {
      "metadata": {
        "id": "u0R1xjT7b-_T",
        "colab_type": "text"
      },
      "cell_type": "markdown",
      "source": [
        "With this information we know that at least 25% of the items have less than 40 ratings and at most 25% of the items hace more tan 230 ratings, on average items have aproximatelly 200 ratings. The skewness indicates that the right tail is bigger than the left, wich is consistent with what we have discussed and the kustosis value reveals the presence of the *Most Popular* items outliers (items at the end of table that are far away from the mean). This can be clearly seen in the distribution figure below."
      ]
    },
    {
      "metadata": {
        "id": "xUOIwD8Ocuru",
        "colab_type": "code",
        "colab": {
          "base_uri": "https://localhost:8080/",
          "height": 401
        },
        "outputId": "28810f60-6608-4343-e8c6-af0f22e0d05b"
      },
      "cell_type": "code",
      "source": [
        "ax = df.itemRatings.plot(kind='hist')\n",
        "\n",
        "ax.set_title('Density for Ratings per Item', fontsize=18)\n",
        "ax.set_xlabel('Ratings per item', fontsize=14)\n",
        "df.itemRatings.plot(kind='kde', ax=ax, secondary_y=True)"
      ],
      "execution_count": 48,
      "outputs": [
        {
          "output_type": "execute_result",
          "data": {
            "text/plain": [
              "<matplotlib.axes._subplots.AxesSubplot at 0x7f07739066a0>"
            ]
          },
          "metadata": {
            "tags": []
          },
          "execution_count": 48
        },
        {
          "output_type": "display_data",
          "data": {
            "image/png": "[encoded data removed]",
            "text/plain": [
              "<matplotlib.figure.Figure at 0x7f0773991160>"
            ]
          },
          "metadata": {
            "tags": []
          }
        }
      ]
    },
    {
      "metadata": {
        "id": "d95jqwcpVOMA",
        "colab_type": "text"
      },
      "cell_type": "markdown",
      "source": [
        "# Experimentation"
      ]
    },
    {
      "metadata": {
        "id": "P2viBCycW0wT",
        "colab_type": "code",
        "colab": {
          "base_uri": "https://localhost:8080/",
          "height": 196
        },
        "outputId": "bd6b3270-5374-4589-f7b2-00d6ec348934"
      },
      "cell_type": "code",
      "source": [
        "# First, some basics for data manipulation\n",
        "# Example for visualizing observations characteristics based on user IDs\n",
        "\n",
        "users = [5,4,1,2,3]\n",
        "train_file.loc[users][['styleID', 'brewerID']]"
      ],
      "execution_count": 0,
      "outputs": [
        {
          "output_type": "execute_result",
          "data": {
            "text/html": [
              "<div>\n",
              "<style scoped>\n",
              "    .dataframe tbody tr th:only-of-type {\n",
              "        vertical-align: middle;\n",
              "    }\n",
              "\n",
              "    .dataframe tbody tr th {\n",
              "        vertical-align: top;\n",
              "    }\n",
              "\n",
              "    .dataframe thead th {\n",
              "        text-align: right;\n",
              "    }\n",
              "</style>\n",
              "<table border=\"1\" class=\"dataframe\">\n",
              "  <thead>\n",
              "    <tr style=\"text-align: right;\">\n",
              "      <th></th>\n",
              "      <th>styleID</th>\n",
              "      <th>brewerID</th>\n",
              "    </tr>\n",
              "  </thead>\n",
              "  <tbody>\n",
              "    <tr>\n",
              "      <th>5</th>\n",
              "      <td>1199</td>\n",
              "      <td>1199</td>\n",
              "    </tr>\n",
              "    <tr>\n",
              "      <th>4</th>\n",
              "      <td>14879</td>\n",
              "      <td>14879</td>\n",
              "    </tr>\n",
              "    <tr>\n",
              "      <th>1</th>\n",
              "      <td>1199</td>\n",
              "      <td>1199</td>\n",
              "    </tr>\n",
              "    <tr>\n",
              "      <th>2</th>\n",
              "      <td>1199</td>\n",
              "      <td>1199</td>\n",
              "    </tr>\n",
              "    <tr>\n",
              "      <th>3</th>\n",
              "      <td>1199</td>\n",
              "      <td>1199</td>\n",
              "    </tr>\n",
              "  </tbody>\n",
              "</table>\n",
              "</div>"
            ],
            "text/plain": [
              "   styleID  brewerID\n",
              "5     1199      1199\n",
              "4    14879     14879\n",
              "1     1199      1199\n",
              "2     1199      1199\n",
              "3     1199      1199"
            ]
          },
          "metadata": {
            "tags": []
          },
          "execution_count": 138
        }
      ]
    },
    {
      "metadata": {
        "id": "_zFDYv6CX-3n",
        "colab_type": "code",
        "colab": {
          "base_uri": "https://localhost:8080/",
          "height": 120
        },
        "outputId": "623ae8db-96b1-4905-e7f4-aa3af798d17c"
      },
      "cell_type": "code",
      "source": [
        "!pip install pyreclab\n",
        "import pyreclab\n",
        "import numpy as np"
      ],
      "execution_count": 0,
      "outputs": [
        {
          "output_type": "stream",
          "text": [
            "Collecting pyreclab\n",
            "\u001b[?25l  Downloading https://files.pythonhosted.org/packages/ef/19/f34b7e91f201aeb2d10bdceef6942e91c0c6a98e1b104baeb56d7bafe61c/pyreclab-0.1.12-cp36-cp36m-manylinux1_x86_64.whl (153kB)\n",
            "\u001b[K    100% |████████████████████████████████| 153kB 6.3MB/s \n",
            "\u001b[?25hInstalling collected packages: pyreclab\n",
            "Successfully installed pyreclab-0.1.12\n"
          ],
          "name": "stdout"
        }
      ]
    },
    {
      "metadata": {
        "id": "Ryg4Ojz6VWQM",
        "colab_type": "text"
      },
      "cell_type": "markdown",
      "source": [
        "## UserKnn"
      ]
    },
    {
      "metadata": {
        "id": "9xicVZQLVNrl",
        "colab_type": "code",
        "colab": {}
      },
      "cell_type": "code",
      "source": [
        "# Declare UserKnn recommender object \n",
        "\n",
        "myUserKnn = pyreclab.UserKnn(dataset='training_data.csv',\n",
        "                             dlmchar=b',',\n",
        "                             header=True,\n",
        "                             usercol=1,\n",
        "                             itemcol=2,\n",
        "                             ratingcol=4)"
      ],
      "execution_count": 0,
      "outputs": []
    },
    {
      "metadata": {
        "id": "0sp47vQvZCNt",
        "colab_type": "code",
        "colab": {}
      },
      "cell_type": "code",
      "source": [
        "# Entrenamos el modelo con los datos existentes\n",
        "# Recuerde que se puede probar el parámetro k de cantidad de vecinos\n",
        "# así como la métrica de similaridad (pearson, cosine)\n",
        "myUserKnn.train(7, 'pearson')"
      ],
      "execution_count": 0,
      "outputs": []
    },
    {
      "metadata": {
        "id": "0tap6hTOZvlZ",
        "colab_type": "code",
        "colab": {
          "base_uri": "https://localhost:8080/",
          "height": 33
        },
        "outputId": "9e468de1-6f2b-42c2-bc6e-de36e3c1cfb0"
      },
      "cell_type": "code",
      "source": [
        "prediction = myUserKnn.predict( \"4924\", \"57110\" )\n",
        "print(prediction)"
      ],
      "execution_count": 0,
      "outputs": [
        {
          "output_type": "stream",
          "text": [
            "4.562244892120361\n"
          ],
          "name": "stdout"
        }
      ]
    },
    {
      "metadata": {
        "id": "FLKC1-J0aGjr",
        "colab_type": "code",
        "colab": {
          "base_uri": "https://localhost:8080/",
          "height": 67
        },
        "outputId": "b05929f4-0a0f-4ab0-fae0-4e8467d3be48"
      },
      "cell_type": "code",
      "source": [
        "ranking4 = myUserKnn.recommend( \"4924\")\n",
        "print(ranking4)\n",
        "\n",
        "print(\"\\nUser Knn Reclist para usuario 4924\")\n",
        "items = np.array(ranking4).astype(int)\n",
        "# print(info_file.loc[items][['title', 'release_date']])"
      ],
      "execution_count": 0,
      "outputs": [
        {
          "output_type": "stream",
          "text": [
            "['50524', '12734', '64487', '38766', '64816', '50084', '66849', '6329', '49786', '54995']\n",
            "\n",
            "User Knn Reclist para usuario 457\n"
          ],
          "name": "stdout"
        }
      ]
    }
  ]
}