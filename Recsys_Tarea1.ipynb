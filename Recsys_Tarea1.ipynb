{
  "nbformat": 4,
  "nbformat_minor": 0,
  "metadata": {
    "colab": {
      "name": "Recsys-Tarea1.ipynb",
      "version": "0.3.2",
      "provenance": [],
      "collapsed_sections": [],
      "toc_visible": true,
      "include_colab_link": true
    },
    "kernelspec": {
      "name": "python3",
      "display_name": "Python 3"
    }
  },
  "cells": [
    {
      "cell_type": "markdown",
      "metadata": {
        "id": "view-in-github",
        "colab_type": "text"
      },
      "source": [
        "[View in Colaboratory](https://colab.research.google.com/github/paulanavarretec/RecSys-Tarea1/blob/master/Recsys_Tarea1.ipynb)"
      ]
    },
    {
      "metadata": {
        "id": "R0sTe6X2lBmH",
        "colab_type": "code",
        "colab": {}
      },
      "cell_type": "code",
      "source": [
        ""
      ],
      "execution_count": 0,
      "outputs": []
    },
    {
      "metadata": {
        "id": "o8wMfE6dlY7i",
        "colab_type": "text"
      },
      "cell_type": "markdown",
      "source": [
        "# Recommender Algorithms for a Beer Selling platform\n",
        "\n",
        "\n",
        "---\n",
        "\n",
        "\n",
        "\n",
        "In this asisgnment I develop several Recommender algorithms and test their performance. I use pyreclab Python library, developed by IALab & SocVis from the Pontifical Catholic University of Chile.\n",
        "\n",
        "The algorithms developed ahead are:\n",
        "\n",
        "> UserKnn\n",
        "\n",
        "> ItemKnn\n",
        "\n",
        "> SlopeOne\n",
        "\n",
        "> SVD\n",
        "\n",
        "\n",
        "> ALS o ALScg: (este modelo lo puede usar para la tarea de ranking. Si tiene problemas con pyreclab, puede usar la biblioteca implicit1)."
      ]
    },
    {
      "metadata": {
        "id": "doP0NFdIKTjW",
        "colab_type": "text"
      },
      "cell_type": "markdown",
      "source": [
        "# Data Load and Exploration\n",
        "\n",
        "Download to local computer the relevant files through the following links:\n",
        "\n",
        "(update links)\n",
        "\n",
        "https://drive.google.com/file/d/1Anro2DyEgN0sUHXFyxVe2qoSya6hzQSp/view?usp=sharing\n",
        "\n",
        "https://drive.google.com/file/d/1Awy3QKCdkSpNeRXATqRBUMi56M47Ia0n/view?usp=sharing\n",
        "\n",
        "https://drive.google.com/file/d/1B7QhEodQ13QlOHOTp9zaa52exlfgAOl3/view?usp=sharing\n"
      ]
    },
    {
      "metadata": {
        "id": "mH3rcvKnlIpu",
        "colab_type": "code",
        "colab": {
          "resources": {
            "http://localhost:8080/nbextensions/google.colab/files.js": {
              "data": "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",
              "ok": true,
              "headers": [
                [
                  "content-type",
                  "application/javascript"
                ]
              ],
              "status": 200,
              "status_text": ""
            }
          },
          "base_uri": "https://localhost:8080/",
          "height": 140
        },
        "outputId": "6970017d-1740-47ae-a780-1c074ff8a1c8"
      },
      "cell_type": "code",
      "source": [
        "#Run this cell. You must upload the files to be used to analyse: training_data.csv, test_rating_data.csv y ranking_users.txt\n",
        "from google.colab import files\n",
        "uploaded = files.upload()"
      ],
      "execution_count": 3,
      "outputs": [
        {
          "output_type": "display_data",
          "data": {
            "text/html": [
              "\n",
              "     <input type=\"file\" id=\"files-b0a13f2b-df1e-42c8-a014-053eb64d64b5\" name=\"files[]\" multiple disabled />\n",
              "     <output id=\"result-b0a13f2b-df1e-42c8-a014-053eb64d64b5\">\n",
              "      Upload widget is only available when the cell has been executed in the\n",
              "      current browser session. Please rerun this cell to enable.\n",
              "      </output>\n",
              "      <script src=\"/nbextensions/google.colab/files.js\"></script> "
            ],
            "text/plain": [
              "<IPython.core.display.HTML object>"
            ]
          },
          "metadata": {
            "tags": []
          }
        },
        {
          "output_type": "stream",
          "text": [
            "Saving training_data.csv to training_data.csv\n",
            "Saving ranking_users.txt to ranking_users (1).txt\n",
            "Saving test_rating_data.csv to test_rating_data (1).csv\n"
          ],
          "name": "stdout"
        }
      ]
    },
    {
      "metadata": {
        "id": "CWpMZgq2XJdR",
        "colab_type": "text"
      },
      "cell_type": "markdown",
      "source": [
        "*training_data.csv* and *test_data.csv* files have tuples of the form {'obsNo', 'userID',  'itemID',  'styleID', 'rating', 'brewerID', 'timestamp'} wich is the information of user preferences among the diferent beer features.\n",
        "\n",
        "Let's load the files into pandas data structure to be handled:"
      ]
    },
    {
      "metadata": {
        "id": "jpg-MmOZX6eF",
        "colab_type": "code",
        "colab": {}
      },
      "cell_type": "code",
      "source": [
        "import pandas as pd #Import library\n",
        "\n",
        "#Read both train and test files into separate data structures\n",
        "train_file = pd.read_csv('training_data.csv',\n",
        "                         sep=',',\n",
        "                         names = ['obsNo','userID', 'itemID', 'styleID', 'rating','brewerID','timestamp'],\n",
        "                         header=0)\n",
        "\n",
        "test_file = pd.read_csv('test_rating_data.csv',                    \n",
        "                         sep=',',\n",
        "                         names = ['obsNo','itemID',  'styleID',  'userID',  'brewerID',   'timestamp'],\n",
        "                         header=0)"
      ],
      "execution_count": 0,
      "outputs": []
    },
    {
      "metadata": {
        "id": "Y0kfJ1VvakOk",
        "colab_type": "text"
      },
      "cell_type": "markdown",
      "source": [
        "### Looking at the numbers \n",
        "\n",
        "The head and tail of the training_data.csv can be visualized as follows, among with the other columns."
      ]
    },
    {
      "metadata": {
        "id": "tRh76tTBbNlF",
        "colab_type": "code",
        "colab": {
          "base_uri": "https://localhost:8080/",
          "height": 251
        },
        "outputId": "182f1d9c-510b-4251-b386-d7e30ded7e33"
      },
      "cell_type": "code",
      "source": [
        "print(train_file.head())\n",
        "print(train_file.tail(),'\\n\\n')"
      ],
      "execution_count": 122,
      "outputs": [
        {
          "output_type": "stream",
          "text": [
            "   obsNo  userID  itemID  styleID  rating  brewerID   timestamp\n",
            "0      0    4924   11757     1199     4.5      1199  1247372118\n",
            "1      1    4924    5441     1199     4.5      1199  1209176445\n",
            "2      2    4924   19960     1199     5.0      1199  1223914717\n",
            "3      3    2916   55900     1199     2.5      1199  1291336093\n",
            "4      4    2916   57110    14879     4.0     14879  1279318326\n",
            "       obsNo  userID  itemID  styleID  rating  brewerID   timestamp\n",
            "44347  44374    3230   11757     1199     5.0      1199  1286494547\n",
            "44348  44375    4630   11757     1199     2.5      1199  1254948632\n",
            "44349  44376    6118   20470      394     4.0       394  1204330634\n",
            "44350  44377    6118    1324      263     3.5       263  1212967655\n",
            "44351  44378    7268    1504      568     5.0       568  1157647130 \n",
            "\n",
            "\n"
          ],
          "name": "stdout"
        }
      ]
    },
    {
      "metadata": {
        "id": "SS5cRpfVHreA",
        "colab_type": "text"
      },
      "cell_type": "markdown",
      "source": [
        "As we can see, users and items are represented by an integer, style and brewer too, rating is represented with a decimal  numer and they all range in a wide spectrum. But we need a little bit more information to see if we have enough users and/or items to be able to predict something.\n",
        "\n",
        "Let's get some stats out of the sample. The following code gets the total number of unique instances for each column, i.e. how many different users,  items, styles, rating, brewerID and timestamps there are:"
      ]
    },
    {
      "metadata": {
        "id": "x6pjeMoQDmMH",
        "colab_type": "code",
        "colab": {
          "base_uri": "https://localhost:8080/",
          "height": 167
        },
        "outputId": "aa5d6817-db35-48ea-9b04-f31721301a37"
      },
      "cell_type": "code",
      "source": [
        "print(train_file.nunique())\n",
        "\n",
        "\n",
        "uniqueVals = train_file[\"styleID\"].unique()\n",
        "uniqueVals = train_file[\"brewerID\"].unique()\n",
        "print(\"Son iguales?\",bool(set(train_file['styleID']).intersection(train_file[\"brewerID\"])))"
      ],
      "execution_count": 123,
      "outputs": [
        {
          "output_type": "stream",
          "text": [
            "obsNo        44352\n",
            "userID        8318\n",
            "itemID        1836\n",
            "styleID        210\n",
            "rating          10\n",
            "brewerID       210\n",
            "timestamp    43905\n",
            "dtype: int64\n",
            "Son iguales? True\n"
          ],
          "name": "stdout"
        }
      ]
    },
    {
      "metadata": {
        "id": "ZBJgba2itJc0",
        "colab_type": "text"
      },
      "cell_type": "markdown",
      "source": [
        "This is nice because we have a large sample, compounded by many (but a lot less) items ans users, we have more users than items (as spected). We have ten different decimal ratings (i guess 0 to 10 incremented by 0.1). And lukily we have a lot less styles and brewers.\n",
        "\n",
        "### Summary statistics\n",
        "\n",
        "Now, let's take a deeper look into de shape of the data, to do that, I use differen statistic functions provided by pandas library. Let's take a look:"
      ]
    },
    {
      "metadata": {
        "id": "UMDSEuvctSg-",
        "colab_type": "code",
        "colab": {
          "base_uri": "https://localhost:8080/",
          "height": 286
        },
        "outputId": "e8cf8ee8-5967-4265-9122-b885e2174904"
      },
      "cell_type": "code",
      "source": [
        "# print('Summary\\n\\n',train_file.describe(),'\\n')\n",
        "train_file.describe()"
      ],
      "execution_count": 127,
      "outputs": [
        {
          "output_type": "execute_result",
          "data": {
            "text/html": [
              "<div>\n",
              "<style scoped>\n",
              "    .dataframe tbody tr th:only-of-type {\n",
              "        vertical-align: middle;\n",
              "    }\n",
              "\n",
              "    .dataframe tbody tr th {\n",
              "        vertical-align: top;\n",
              "    }\n",
              "\n",
              "    .dataframe thead th {\n",
              "        text-align: right;\n",
              "    }\n",
              "</style>\n",
              "<table border=\"1\" class=\"dataframe\">\n",
              "  <thead>\n",
              "    <tr style=\"text-align: right;\">\n",
              "      <th></th>\n",
              "      <th>obsNo</th>\n",
              "      <th>userID</th>\n",
              "      <th>itemID</th>\n",
              "      <th>styleID</th>\n",
              "      <th>rating</th>\n",
              "      <th>brewerID</th>\n",
              "      <th>timestamp</th>\n",
              "    </tr>\n",
              "  </thead>\n",
              "  <tbody>\n",
              "    <tr>\n",
              "      <th>count</th>\n",
              "      <td>44352.000000</td>\n",
              "      <td>44352.000000</td>\n",
              "      <td>44352.000000</td>\n",
              "      <td>44352.000000</td>\n",
              "      <td>44352.000000</td>\n",
              "      <td>44352.000000</td>\n",
              "      <td>4.435200e+04</td>\n",
              "    </tr>\n",
              "    <tr>\n",
              "      <th>mean</th>\n",
              "      <td>22191.016031</td>\n",
              "      <td>3205.841698</td>\n",
              "      <td>21296.386273</td>\n",
              "      <td>2972.899238</td>\n",
              "      <td>3.864910</td>\n",
              "      <td>2972.899238</td>\n",
              "      <td>1.229025e+09</td>\n",
              "    </tr>\n",
              "    <tr>\n",
              "      <th>std</th>\n",
              "      <td>12812.864346</td>\n",
              "      <td>2391.127797</td>\n",
              "      <td>18548.835555</td>\n",
              "      <td>5037.020714</td>\n",
              "      <td>0.712695</td>\n",
              "      <td>5037.020714</td>\n",
              "      <td>7.173668e+07</td>\n",
              "    </tr>\n",
              "    <tr>\n",
              "      <th>min</th>\n",
              "      <td>0.000000</td>\n",
              "      <td>1.000000</td>\n",
              "      <td>175.000000</td>\n",
              "      <td>1.000000</td>\n",
              "      <td>0.000000</td>\n",
              "      <td>1.000000</td>\n",
              "      <td>9.262944e+08</td>\n",
              "    </tr>\n",
              "    <tr>\n",
              "      <th>25%</th>\n",
              "      <td>11096.750000</td>\n",
              "      <td>1130.000000</td>\n",
              "      <td>5441.000000</td>\n",
              "      <td>395.000000</td>\n",
              "      <td>3.500000</td>\n",
              "      <td>395.000000</td>\n",
              "      <td>1.184526e+09</td>\n",
              "    </tr>\n",
              "    <tr>\n",
              "      <th>50%</th>\n",
              "      <td>22184.500000</td>\n",
              "      <td>2763.000000</td>\n",
              "      <td>17538.000000</td>\n",
              "      <td>1199.000000</td>\n",
              "      <td>4.000000</td>\n",
              "      <td>1199.000000</td>\n",
              "      <td>1.243485e+09</td>\n",
              "    </tr>\n",
              "    <tr>\n",
              "      <th>75%</th>\n",
              "      <td>33290.250000</td>\n",
              "      <td>5013.250000</td>\n",
              "      <td>34146.000000</td>\n",
              "      <td>1315.000000</td>\n",
              "      <td>4.500000</td>\n",
              "      <td>1315.000000</td>\n",
              "      <td>1.286939e+09</td>\n",
              "    </tr>\n",
              "    <tr>\n",
              "      <th>max</th>\n",
              "      <td>44378.000000</td>\n",
              "      <td>8320.000000</td>\n",
              "      <td>77207.000000</td>\n",
              "      <td>27797.000000</td>\n",
              "      <td>5.000000</td>\n",
              "      <td>27797.000000</td>\n",
              "      <td>1.326259e+09</td>\n",
              "    </tr>\n",
              "  </tbody>\n",
              "</table>\n",
              "</div>"
            ],
            "text/plain": [
              "              obsNo        userID        itemID       styleID        rating  \\\n",
              "count  44352.000000  44352.000000  44352.000000  44352.000000  44352.000000   \n",
              "mean   22191.016031   3205.841698  21296.386273   2972.899238      3.864910   \n",
              "std    12812.864346   2391.127797  18548.835555   5037.020714      0.712695   \n",
              "min        0.000000      1.000000    175.000000      1.000000      0.000000   \n",
              "25%    11096.750000   1130.000000   5441.000000    395.000000      3.500000   \n",
              "50%    22184.500000   2763.000000  17538.000000   1199.000000      4.000000   \n",
              "75%    33290.250000   5013.250000  34146.000000   1315.000000      4.500000   \n",
              "max    44378.000000   8320.000000  77207.000000  27797.000000      5.000000   \n",
              "\n",
              "           brewerID     timestamp  \n",
              "count  44352.000000  4.435200e+04  \n",
              "mean    2972.899238  1.229025e+09  \n",
              "std     5037.020714  7.173668e+07  \n",
              "min        1.000000  9.262944e+08  \n",
              "25%      395.000000  1.184526e+09  \n",
              "50%     1199.000000  1.243485e+09  \n",
              "75%     1315.000000  1.286939e+09  \n",
              "max    27797.000000  1.326259e+09  "
            ]
          },
          "metadata": {
            "tags": []
          },
          "execution_count": 127
        }
      ]
    },
    {
      "metadata": {
        "id": "uJIntM-XOd1q",
        "colab_type": "code",
        "colab": {
          "base_uri": "https://localhost:8080/",
          "height": 150
        },
        "outputId": "f82f6567-3782-4081-f5af-63450853fcd7"
      },
      "cell_type": "code",
      "source": [
        "# print('Median:\\n',train_file.median(),'\\n') # Sample median of rating values\n",
        "train_file.median()"
      ],
      "execution_count": 128,
      "outputs": [
        {
          "output_type": "execute_result",
          "data": {
            "text/plain": [
              "obsNo        2.218450e+04\n",
              "userID       2.763000e+03\n",
              "itemID       1.753800e+04\n",
              "styleID      1.199000e+03\n",
              "rating       4.000000e+00\n",
              "brewerID     1.199000e+03\n",
              "timestamp    1.243485e+09\n",
              "dtype: float64"
            ]
          },
          "metadata": {
            "tags": []
          },
          "execution_count": 128
        }
      ]
    },
    {
      "metadata": {
        "id": "Pppm3GP1OlPs",
        "colab_type": "code",
        "colab": {
          "base_uri": "https://localhost:8080/",
          "height": 150
        },
        "outputId": "92cd7999-0728-4a51-c992-393ff649e2e6"
      },
      "cell_type": "code",
      "source": [
        "# print('Variance:\\n',train_file.var(),'\\n')    # Sample variance of rating values\n",
        "train_file.var()"
      ],
      "execution_count": 129,
      "outputs": [
        {
          "output_type": "execute_result",
          "data": {
            "text/plain": [
              "obsNo        1.641695e+08\n",
              "userID       5.717492e+06\n",
              "itemID       3.440593e+08\n",
              "styleID      2.537158e+07\n",
              "rating       5.079335e-01\n",
              "brewerID     2.537158e+07\n",
              "timestamp    5.146151e+15\n",
              "dtype: float64"
            ]
          },
          "metadata": {
            "tags": []
          },
          "execution_count": 129
        }
      ]
    },
    {
      "metadata": {
        "id": "UN5TLYhnOqI1",
        "colab_type": "code",
        "colab": {
          "base_uri": "https://localhost:8080/",
          "height": 150
        },
        "outputId": "503b1564-fbc8-4afd-9f72-0e0b43e4f974"
      },
      "cell_type": "code",
      "source": [
        "# print('Standard deviation:\\n',train_file.std(),'\\n')     # Sample standard deviation of rating values\n",
        "train_file.std()"
      ],
      "execution_count": 130,
      "outputs": [
        {
          "output_type": "execute_result",
          "data": {
            "text/plain": [
              "obsNo        1.281286e+04\n",
              "userID       2.391128e+03\n",
              "itemID       1.854884e+04\n",
              "styleID      5.037021e+03\n",
              "rating       7.126946e-01\n",
              "brewerID     5.037021e+03\n",
              "timestamp    7.173668e+07\n",
              "dtype: float64"
            ]
          },
          "metadata": {
            "tags": []
          },
          "execution_count": 130
        }
      ]
    },
    {
      "metadata": {
        "id": "-XNStXyZOsIf",
        "colab_type": "code",
        "colab": {
          "base_uri": "https://localhost:8080/",
          "height": 150
        },
        "outputId": "d8ad7740-241b-414a-ca28-25c1c96d3454"
      },
      "cell_type": "code",
      "source": [
        "# print('Skew:\\n',train_file.skew(),'\\n')    # Skewness of rating values\n",
        "train_file.skew()"
      ],
      "execution_count": 131,
      "outputs": [
        {
          "output_type": "execute_result",
          "data": {
            "text/plain": [
              "obsNo       -0.000054\n",
              "userID       0.497656\n",
              "itemID       0.818074\n",
              "styleID      2.390667\n",
              "rating      -1.013625\n",
              "brewerID     2.390667\n",
              "timestamp   -0.833778\n",
              "dtype: float64"
            ]
          },
          "metadata": {
            "tags": []
          },
          "execution_count": 131
        }
      ]
    },
    {
      "metadata": {
        "id": "KWO6UnarOKjY",
        "colab_type": "code",
        "colab": {
          "base_uri": "https://localhost:8080/",
          "height": 150
        },
        "outputId": "5afdf832-1558-4c72-8841-47fa0fa82dba"
      },
      "cell_type": "code",
      "source": [
        "# print('Kurtosis:\\n',train_file.kurt(),'\\n')    # Kurtosis of rating values\n",
        "train_file.kurt()"
      ],
      "execution_count": 132,
      "outputs": [
        {
          "output_type": "execute_result",
          "data": {
            "text/plain": [
              "obsNo       -1.200353\n",
              "userID      -0.941630\n",
              "itemID      -0.260603\n",
              "styleID      4.779249\n",
              "rating       1.631286\n",
              "brewerID     4.779249\n",
              "timestamp   -0.017481\n",
              "dtype: float64"
            ]
          },
          "metadata": {
            "tags": []
          },
          "execution_count": 132
        }
      ]
    },
    {
      "metadata": {
        "id": "Jf0W8m1YwvEV",
        "colab_type": "code",
        "colab": {
          "base_uri": "https://localhost:8080/",
          "height": 256
        },
        "outputId": "475aaa33-db3a-47dd-ed99-a7cdcf4888e5"
      },
      "cell_type": "code",
      "source": [
        "(train_file.corr())    # Correlation Matrix Of Values"
      ],
      "execution_count": 134,
      "outputs": [
        {
          "output_type": "execute_result",
          "data": {
            "text/html": [
              "<div>\n",
              "<style scoped>\n",
              "    .dataframe tbody tr th:only-of-type {\n",
              "        vertical-align: middle;\n",
              "    }\n",
              "\n",
              "    .dataframe tbody tr th {\n",
              "        vertical-align: top;\n",
              "    }\n",
              "\n",
              "    .dataframe thead th {\n",
              "        text-align: right;\n",
              "    }\n",
              "</style>\n",
              "<table border=\"1\" class=\"dataframe\">\n",
              "  <thead>\n",
              "    <tr style=\"text-align: right;\">\n",
              "      <th></th>\n",
              "      <th>obsNo</th>\n",
              "      <th>userID</th>\n",
              "      <th>itemID</th>\n",
              "      <th>styleID</th>\n",
              "      <th>rating</th>\n",
              "      <th>brewerID</th>\n",
              "      <th>timestamp</th>\n",
              "    </tr>\n",
              "  </thead>\n",
              "  <tbody>\n",
              "    <tr>\n",
              "      <th>obsNo</th>\n",
              "      <td>1.000000</td>\n",
              "      <td>-0.003365</td>\n",
              "      <td>0.006654</td>\n",
              "      <td>-0.000982</td>\n",
              "      <td>0.008494</td>\n",
              "      <td>-0.000982</td>\n",
              "      <td>0.001472</td>\n",
              "    </tr>\n",
              "    <tr>\n",
              "      <th>userID</th>\n",
              "      <td>-0.003365</td>\n",
              "      <td>1.000000</td>\n",
              "      <td>-0.314421</td>\n",
              "      <td>-0.166903</td>\n",
              "      <td>-0.023358</td>\n",
              "      <td>-0.166903</td>\n",
              "      <td>-0.638473</td>\n",
              "    </tr>\n",
              "    <tr>\n",
              "      <th>itemID</th>\n",
              "      <td>0.006654</td>\n",
              "      <td>-0.314421</td>\n",
              "      <td>1.000000</td>\n",
              "      <td>0.524710</td>\n",
              "      <td>-0.019572</td>\n",
              "      <td>0.524710</td>\n",
              "      <td>0.424763</td>\n",
              "    </tr>\n",
              "    <tr>\n",
              "      <th>styleID</th>\n",
              "      <td>-0.000982</td>\n",
              "      <td>-0.166903</td>\n",
              "      <td>0.524710</td>\n",
              "      <td>1.000000</td>\n",
              "      <td>-0.082091</td>\n",
              "      <td>1.000000</td>\n",
              "      <td>0.206634</td>\n",
              "    </tr>\n",
              "    <tr>\n",
              "      <th>rating</th>\n",
              "      <td>0.008494</td>\n",
              "      <td>-0.023358</td>\n",
              "      <td>-0.019572</td>\n",
              "      <td>-0.082091</td>\n",
              "      <td>1.000000</td>\n",
              "      <td>-0.082091</td>\n",
              "      <td>0.059495</td>\n",
              "    </tr>\n",
              "    <tr>\n",
              "      <th>brewerID</th>\n",
              "      <td>-0.000982</td>\n",
              "      <td>-0.166903</td>\n",
              "      <td>0.524710</td>\n",
              "      <td>1.000000</td>\n",
              "      <td>-0.082091</td>\n",
              "      <td>1.000000</td>\n",
              "      <td>0.206634</td>\n",
              "    </tr>\n",
              "    <tr>\n",
              "      <th>timestamp</th>\n",
              "      <td>0.001472</td>\n",
              "      <td>-0.638473</td>\n",
              "      <td>0.424763</td>\n",
              "      <td>0.206634</td>\n",
              "      <td>0.059495</td>\n",
              "      <td>0.206634</td>\n",
              "      <td>1.000000</td>\n",
              "    </tr>\n",
              "  </tbody>\n",
              "</table>\n",
              "</div>"
            ],
            "text/plain": [
              "              obsNo    userID    itemID   styleID    rating  brewerID  \\\n",
              "obsNo      1.000000 -0.003365  0.006654 -0.000982  0.008494 -0.000982   \n",
              "userID    -0.003365  1.000000 -0.314421 -0.166903 -0.023358 -0.166903   \n",
              "itemID     0.006654 -0.314421  1.000000  0.524710 -0.019572  0.524710   \n",
              "styleID   -0.000982 -0.166903  0.524710  1.000000 -0.082091  1.000000   \n",
              "rating     0.008494 -0.023358 -0.019572 -0.082091  1.000000 -0.082091   \n",
              "brewerID  -0.000982 -0.166903  0.524710  1.000000 -0.082091  1.000000   \n",
              "timestamp  0.001472 -0.638473  0.424763  0.206634  0.059495  0.206634   \n",
              "\n",
              "           timestamp  \n",
              "obsNo       0.001472  \n",
              "userID     -0.638473  \n",
              "itemID      0.424763  \n",
              "styleID     0.206634  \n",
              "rating      0.059495  \n",
              "brewerID    0.206634  \n",
              "timestamp   1.000000  "
            ]
          },
          "metadata": {
            "tags": []
          },
          "execution_count": 134
        }
      ]
    },
    {
      "metadata": {
        "id": "zlRPjGhLwyas",
        "colab_type": "code",
        "colab": {
          "base_uri": "https://localhost:8080/",
          "height": 254
        },
        "outputId": "1747e260-0f9c-4319-8fa0-5b68554f8718"
      },
      "cell_type": "code",
      "source": [
        "(train_file.cov())    # Covariance Matrix Of Values"
      ],
      "execution_count": 68,
      "outputs": [
        {
          "output_type": "execute_result",
          "data": {
            "text/html": [
              "<div>\n",
              "<style scoped>\n",
              "    .dataframe tbody tr th:only-of-type {\n",
              "        vertical-align: middle;\n",
              "    }\n",
              "\n",
              "    .dataframe tbody tr th {\n",
              "        vertical-align: top;\n",
              "    }\n",
              "\n",
              "    .dataframe thead th {\n",
              "        text-align: right;\n",
              "    }\n",
              "</style>\n",
              "<table border=\"1\" class=\"dataframe\">\n",
              "  <thead>\n",
              "    <tr style=\"text-align: right;\">\n",
              "      <th></th>\n",
              "      <th>obsNo</th>\n",
              "      <th>userID</th>\n",
              "      <th>itemID</th>\n",
              "      <th>styleID</th>\n",
              "      <th>rating</th>\n",
              "      <th>brewerID</th>\n",
              "      <th>timestamp</th>\n",
              "    </tr>\n",
              "  </thead>\n",
              "  <tbody>\n",
              "    <tr>\n",
              "      <th>obsNo</th>\n",
              "      <td>1.641695e+08</td>\n",
              "      <td>-1.030805e+05</td>\n",
              "      <td>1.581421e+06</td>\n",
              "      <td>-6.334947e+04</td>\n",
              "      <td>7.756751e+01</td>\n",
              "      <td>-6.334947e+04</td>\n",
              "      <td>1.353343e+09</td>\n",
              "    </tr>\n",
              "    <tr>\n",
              "      <th>userID</th>\n",
              "      <td>-1.030805e+05</td>\n",
              "      <td>5.717492e+06</td>\n",
              "      <td>-1.394539e+07</td>\n",
              "      <td>-2.010202e+06</td>\n",
              "      <td>-3.980498e+01</td>\n",
              "      <td>-2.010202e+06</td>\n",
              "      <td>-1.095183e+11</td>\n",
              "    </tr>\n",
              "    <tr>\n",
              "      <th>itemID</th>\n",
              "      <td>1.581421e+06</td>\n",
              "      <td>-1.394539e+07</td>\n",
              "      <td>3.440593e+08</td>\n",
              "      <td>4.902411e+07</td>\n",
              "      <td>-2.587404e+02</td>\n",
              "      <td>4.902411e+07</td>\n",
              "      <td>5.652037e+11</td>\n",
              "    </tr>\n",
              "    <tr>\n",
              "      <th>styleID</th>\n",
              "      <td>-6.334947e+04</td>\n",
              "      <td>-2.010202e+06</td>\n",
              "      <td>4.902411e+07</td>\n",
              "      <td>2.537158e+07</td>\n",
              "      <td>-2.946954e+02</td>\n",
              "      <td>2.537158e+07</td>\n",
              "      <td>7.466486e+10</td>\n",
              "    </tr>\n",
              "    <tr>\n",
              "      <th>rating</th>\n",
              "      <td>7.756751e+01</td>\n",
              "      <td>-3.980498e+01</td>\n",
              "      <td>-2.587404e+02</td>\n",
              "      <td>-2.946954e+02</td>\n",
              "      <td>5.079335e-01</td>\n",
              "      <td>-2.946954e+02</td>\n",
              "      <td>3.041758e+06</td>\n",
              "    </tr>\n",
              "    <tr>\n",
              "      <th>brewerID</th>\n",
              "      <td>-6.334947e+04</td>\n",
              "      <td>-2.010202e+06</td>\n",
              "      <td>4.902411e+07</td>\n",
              "      <td>2.537158e+07</td>\n",
              "      <td>-2.946954e+02</td>\n",
              "      <td>2.537158e+07</td>\n",
              "      <td>7.466486e+10</td>\n",
              "    </tr>\n",
              "    <tr>\n",
              "      <th>timestamp</th>\n",
              "      <td>1.353343e+09</td>\n",
              "      <td>-1.095183e+11</td>\n",
              "      <td>5.652037e+11</td>\n",
              "      <td>7.466486e+10</td>\n",
              "      <td>3.041758e+06</td>\n",
              "      <td>7.466486e+10</td>\n",
              "      <td>5.146151e+15</td>\n",
              "    </tr>\n",
              "  </tbody>\n",
              "</table>\n",
              "</div>"
            ],
            "text/plain": [
              "                  obsNo        userID        itemID       styleID  \\\n",
              "obsNo      1.641695e+08 -1.030805e+05  1.581421e+06 -6.334947e+04   \n",
              "userID    -1.030805e+05  5.717492e+06 -1.394539e+07 -2.010202e+06   \n",
              "itemID     1.581421e+06 -1.394539e+07  3.440593e+08  4.902411e+07   \n",
              "styleID   -6.334947e+04 -2.010202e+06  4.902411e+07  2.537158e+07   \n",
              "rating     7.756751e+01 -3.980498e+01 -2.587404e+02 -2.946954e+02   \n",
              "brewerID  -6.334947e+04 -2.010202e+06  4.902411e+07  2.537158e+07   \n",
              "timestamp  1.353343e+09 -1.095183e+11  5.652037e+11  7.466486e+10   \n",
              "\n",
              "                 rating      brewerID     timestamp  \n",
              "obsNo      7.756751e+01 -6.334947e+04  1.353343e+09  \n",
              "userID    -3.980498e+01 -2.010202e+06 -1.095183e+11  \n",
              "itemID    -2.587404e+02  4.902411e+07  5.652037e+11  \n",
              "styleID   -2.946954e+02  2.537158e+07  7.466486e+10  \n",
              "rating     5.079335e-01 -2.946954e+02  3.041758e+06  \n",
              "brewerID  -2.946954e+02  2.537158e+07  7.466486e+10  \n",
              "timestamp  3.041758e+06  7.466486e+10  5.146151e+15  "
            ]
          },
          "metadata": {
            "tags": []
          },
          "execution_count": 68
        }
      ]
    },
    {
      "metadata": {
        "id": "Loj5bxdTPPBJ",
        "colab_type": "text"
      },
      "cell_type": "markdown",
      "source": [
        "## Dataset Density\n",
        "\n",
        "Now, let's see al these tendencies we've resumed in the numbers just examined. First I plot the density function of the user rankings. The following plot depicts the frecuency for the y-axis of reviews per user and a probability density function."
      ]
    },
    {
      "metadata": {
        "id": "OqMJgzYuehOh",
        "colab_type": "code",
        "colab": {
          "base_uri": "https://localhost:8080/",
          "height": 364
        },
        "outputId": "6f1a7c49-1609-4891-8728-7614353119e3"
      },
      "cell_type": "code",
      "source": [
        "# train_file['userID'].plot.kde() \n",
        "# train_file['userID'].plot.hist() # or alternatively\n",
        "\n",
        "ax = train_file.userID.plot(kind='hist')\n",
        "train_file.userID.plot(kind='kde', ax=ax, secondary_y=True)"
      ],
      "execution_count": 135,
      "outputs": [
        {
          "output_type": "execute_result",
          "data": {
            "text/plain": [
              "<matplotlib.axes._subplots.AxesSubplot at 0x7f82e756dd30>"
            ]
          },
          "metadata": {
            "tags": []
          },
          "execution_count": 135
        },
        {
          "output_type": "display_data",
          "data": {
            "image/png": "[encoded data removed]",
            "text/plain": [
              "<matplotlib.figure.Figure at 0x7f82e75a1278>"
            ]
          },
          "metadata": {
            "tags": []
          }
        }
      ]
    },
    {
      "metadata": {
        "id": "VfRuB2iGTOXP",
        "colab_type": "text"
      },
      "cell_type": "markdown",
      "source": [
        "The shape is congruent with the tendency to have less users in the beginnig (the so*-called* early adopters) giving lots of ratings and helping the system to learn, and afterwads, a lot of new users giving a lot of less reviews. \n",
        "\n",
        "The same can be chequed out analogously for the items."
      ]
    },
    {
      "metadata": {
        "id": "3kgRcFdxhAd1",
        "colab_type": "code",
        "colab": {
          "base_uri": "https://localhost:8080/",
          "height": 364
        },
        "outputId": "7fb2d745-4945-44b5-d3a9-fe0c541e3c45"
      },
      "cell_type": "code",
      "source": [
        "ax = train_file.itemID.plot(kind='hist')\n",
        "train_file.itemID.plot(kind='kde', ax=ax, secondary_y=True)"
      ],
      "execution_count": 136,
      "outputs": [
        {
          "output_type": "execute_result",
          "data": {
            "text/plain": [
              "<matplotlib.axes._subplots.AxesSubplot at 0x7f82e7498f98>"
            ]
          },
          "metadata": {
            "tags": []
          },
          "execution_count": 136
        },
        {
          "output_type": "display_data",
          "data": {
            "image/png": "[encoded data removed]",
            "text/plain": [
              "<matplotlib.figure.Figure at 0x7f82e7534358>"
            ]
          },
          "metadata": {
            "tags": []
          }
        }
      ]
    },
    {
      "metadata": {
        "id": "k6mcXR6pVlW6",
        "colab_type": "text"
      },
      "cell_type": "markdown",
      "source": [
        "It is interesting what this plot shows. We can see a sort of different waves, characterized by a peak of ratings for some items, but a comparable bigger tail of items rated comparatively less. This may suggest that new items were introduced in 4 to 5 waves along time, where we initial introductions brought several more reviews per item introduced than the later, making sens with the previously analisys of users."
      ]
    },
    {
      "metadata": {
        "id": "KB0-gpQ7YRos",
        "colab_type": "text"
      },
      "cell_type": "markdown",
      "source": [
        "## Dataset Distribution\n",
        "\n",
        "### user/item Distribution"
      ]
    },
    {
      "metadata": {
        "id": "-z1Xx1UHYXcD",
        "colab_type": "code",
        "colab": {
          "base_uri": "https://localhost:8080/",
          "height": 196
        },
        "outputId": "d34dbc11-5626-4ba5-e2ff-7a965917625d"
      },
      "cell_type": "code",
      "source": [
        "# print(train_file.groupby(['userID']).size().reset_index(name='itemsRated').head())\n",
        "train_file.groupby(['userID']).size().reset_index(name='itemsRated').head()"
      ],
      "execution_count": 137,
      "outputs": [
        {
          "output_type": "execute_result",
          "data": {
            "text/html": [
              "<div>\n",
              "<style scoped>\n",
              "    .dataframe tbody tr th:only-of-type {\n",
              "        vertical-align: middle;\n",
              "    }\n",
              "\n",
              "    .dataframe tbody tr th {\n",
              "        vertical-align: top;\n",
              "    }\n",
              "\n",
              "    .dataframe thead th {\n",
              "        text-align: right;\n",
              "    }\n",
              "</style>\n",
              "<table border=\"1\" class=\"dataframe\">\n",
              "  <thead>\n",
              "    <tr style=\"text-align: right;\">\n",
              "      <th></th>\n",
              "      <th>userID</th>\n",
              "      <th>itemsRated</th>\n",
              "    </tr>\n",
              "  </thead>\n",
              "  <tbody>\n",
              "    <tr>\n",
              "      <th>0</th>\n",
              "      <td>1</td>\n",
              "      <td>22</td>\n",
              "    </tr>\n",
              "    <tr>\n",
              "      <th>1</th>\n",
              "      <td>2</td>\n",
              "      <td>18</td>\n",
              "    </tr>\n",
              "    <tr>\n",
              "      <th>2</th>\n",
              "      <td>3</td>\n",
              "      <td>16</td>\n",
              "    </tr>\n",
              "    <tr>\n",
              "      <th>3</th>\n",
              "      <td>4</td>\n",
              "      <td>39</td>\n",
              "    </tr>\n",
              "    <tr>\n",
              "      <th>4</th>\n",
              "      <td>5</td>\n",
              "      <td>12</td>\n",
              "    </tr>\n",
              "  </tbody>\n",
              "</table>\n",
              "</div>"
            ],
            "text/plain": [
              "   userID  itemsRated\n",
              "0       1          22\n",
              "1       2          18\n",
              "2       3          16\n",
              "3       4          39\n",
              "4       5          12"
            ]
          },
          "metadata": {
            "tags": []
          },
          "execution_count": 137
        }
      ]
    },
    {
      "metadata": {
        "id": "Fq2GkifPYfSu",
        "colab_type": "code",
        "colab": {
          "base_uri": "https://localhost:8080/",
          "height": 196
        },
        "outputId": "c9955576-6d24-49b8-8756-aa8fbe8071b6"
      },
      "cell_type": "code",
      "source": [
        "(train_file.groupby(['userID']).size().reset_index(name='itemsRated').tail())"
      ],
      "execution_count": 138,
      "outputs": [
        {
          "output_type": "execute_result",
          "data": {
            "text/html": [
              "<div>\n",
              "<style scoped>\n",
              "    .dataframe tbody tr th:only-of-type {\n",
              "        vertical-align: middle;\n",
              "    }\n",
              "\n",
              "    .dataframe tbody tr th {\n",
              "        vertical-align: top;\n",
              "    }\n",
              "\n",
              "    .dataframe thead th {\n",
              "        text-align: right;\n",
              "    }\n",
              "</style>\n",
              "<table border=\"1\" class=\"dataframe\">\n",
              "  <thead>\n",
              "    <tr style=\"text-align: right;\">\n",
              "      <th></th>\n",
              "      <th>userID</th>\n",
              "      <th>itemsRated</th>\n",
              "    </tr>\n",
              "  </thead>\n",
              "  <tbody>\n",
              "    <tr>\n",
              "      <th>8313</th>\n",
              "      <td>8316</td>\n",
              "      <td>2</td>\n",
              "    </tr>\n",
              "    <tr>\n",
              "      <th>8314</th>\n",
              "      <td>8317</td>\n",
              "      <td>1</td>\n",
              "    </tr>\n",
              "    <tr>\n",
              "      <th>8315</th>\n",
              "      <td>8318</td>\n",
              "      <td>1</td>\n",
              "    </tr>\n",
              "    <tr>\n",
              "      <th>8316</th>\n",
              "      <td>8319</td>\n",
              "      <td>1</td>\n",
              "    </tr>\n",
              "    <tr>\n",
              "      <th>8317</th>\n",
              "      <td>8320</td>\n",
              "      <td>1</td>\n",
              "    </tr>\n",
              "  </tbody>\n",
              "</table>\n",
              "</div>"
            ],
            "text/plain": [
              "      userID  itemsRated\n",
              "8313    8316           2\n",
              "8314    8317           1\n",
              "8315    8318           1\n",
              "8316    8319           1\n",
              "8317    8320           1"
            ]
          },
          "metadata": {
            "tags": []
          },
          "execution_count": 138
        }
      ]
    },
    {
      "metadata": {
        "id": "ObKYxIFQN1BN",
        "colab_type": "code",
        "colab": {}
      },
      "cell_type": "code",
      "source": [
        "ser = pd.Series(train_file.groupby(['userID']).size().reset_index(name='itemsRated')['itemsRated'].tolist())\n",
        "# (ser.describe())\n",
        "\n",
        "## AGREGARLE QUE CUENTE CUÁNTOS USERS TIENEN 1, 2, 3, ..., 15<-(MEAN+STD_DEV) PARA QUE QUEDE MAS ILUSTRATIVO EL GRAFICO"
      ],
      "execution_count": 0,
      "outputs": []
    },
    {
      "metadata": {
        "id": "N9fQ32YKYzip",
        "colab_type": "code",
        "colab": {
          "base_uri": "https://localhost:8080/",
          "height": 364
        },
        "outputId": "06053721-b80d-4acd-b812-0165cb61edbe"
      },
      "cell_type": "code",
      "source": [
        "# ser.plot.kde()\n",
        "ax = ser.plot(kind='hist')\n",
        "ser.plot(kind='kde', ax=ax, secondary_y=True)\n",
        "# ser"
      ],
      "execution_count": 148,
      "outputs": [
        {
          "output_type": "execute_result",
          "data": {
            "text/plain": [
              "<matplotlib.axes._subplots.AxesSubplot at 0x7f82e7e3a278>"
            ]
          },
          "metadata": {
            "tags": []
          },
          "execution_count": 148
        },
        {
          "output_type": "display_data",
          "data": {
            "image/png": "[encoded data removed]",
            "text/plain": [
              "<matplotlib.figure.Figure at 0x7f82e7f24ac8>"
            ]
          },
          "metadata": {
            "tags": []
          }
        }
      ]
    },
    {
      "metadata": {
        "id": "L-i-C4CYZO1r",
        "colab_type": "text"
      },
      "cell_type": "markdown",
      "source": [
        "### item/user Distribution"
      ]
    },
    {
      "metadata": {
        "id": "nIX92M1_ZHaH",
        "colab_type": "code",
        "colab": {
          "base_uri": "https://localhost:8080/",
          "height": 196
        },
        "outputId": "6af96c5a-135e-4077-b966-aca80cc7866d"
      },
      "cell_type": "code",
      "source": [
        "(train_file.groupby(['itemID']).size().reset_index(name='usersRated').head())"
      ],
      "execution_count": 141,
      "outputs": [
        {
          "output_type": "execute_result",
          "data": {
            "text/html": [
              "<div>\n",
              "<style scoped>\n",
              "    .dataframe tbody tr th:only-of-type {\n",
              "        vertical-align: middle;\n",
              "    }\n",
              "\n",
              "    .dataframe tbody tr th {\n",
              "        vertical-align: top;\n",
              "    }\n",
              "\n",
              "    .dataframe thead th {\n",
              "        text-align: right;\n",
              "    }\n",
              "</style>\n",
              "<table border=\"1\" class=\"dataframe\">\n",
              "  <thead>\n",
              "    <tr style=\"text-align: right;\">\n",
              "      <th></th>\n",
              "      <th>itemID</th>\n",
              "      <th>usersRated</th>\n",
              "    </tr>\n",
              "  </thead>\n",
              "  <tbody>\n",
              "    <tr>\n",
              "      <th>0</th>\n",
              "      <td>175</td>\n",
              "      <td>71</td>\n",
              "    </tr>\n",
              "    <tr>\n",
              "      <th>1</th>\n",
              "      <td>176</td>\n",
              "      <td>118</td>\n",
              "    </tr>\n",
              "    <tr>\n",
              "      <th>2</th>\n",
              "      <td>178</td>\n",
              "      <td>83</td>\n",
              "    </tr>\n",
              "    <tr>\n",
              "      <th>3</th>\n",
              "      <td>429</td>\n",
              "      <td>1182</td>\n",
              "    </tr>\n",
              "    <tr>\n",
              "      <th>4</th>\n",
              "      <td>436</td>\n",
              "      <td>443</td>\n",
              "    </tr>\n",
              "  </tbody>\n",
              "</table>\n",
              "</div>"
            ],
            "text/plain": [
              "   itemID  usersRated\n",
              "0     175          71\n",
              "1     176         118\n",
              "2     178          83\n",
              "3     429        1182\n",
              "4     436         443"
            ]
          },
          "metadata": {
            "tags": []
          },
          "execution_count": 141
        }
      ]
    },
    {
      "metadata": {
        "id": "KZezkm7SZXFW",
        "colab_type": "code",
        "colab": {
          "base_uri": "https://localhost:8080/",
          "height": 196
        },
        "outputId": "4099350e-e4ae-414a-885f-d617263adf2b"
      },
      "cell_type": "code",
      "source": [
        "(train_file.groupby(['itemID']).size().reset_index(name='usersRated').tail())"
      ],
      "execution_count": 142,
      "outputs": [
        {
          "output_type": "execute_result",
          "data": {
            "text/html": [
              "<div>\n",
              "<style scoped>\n",
              "    .dataframe tbody tr th:only-of-type {\n",
              "        vertical-align: middle;\n",
              "    }\n",
              "\n",
              "    .dataframe tbody tr th {\n",
              "        vertical-align: top;\n",
              "    }\n",
              "\n",
              "    .dataframe thead th {\n",
              "        text-align: right;\n",
              "    }\n",
              "</style>\n",
              "<table border=\"1\" class=\"dataframe\">\n",
              "  <thead>\n",
              "    <tr style=\"text-align: right;\">\n",
              "      <th></th>\n",
              "      <th>itemID</th>\n",
              "      <th>usersRated</th>\n",
              "    </tr>\n",
              "  </thead>\n",
              "  <tbody>\n",
              "    <tr>\n",
              "      <th>1831</th>\n",
              "      <td>76997</td>\n",
              "      <td>2</td>\n",
              "    </tr>\n",
              "    <tr>\n",
              "      <th>1832</th>\n",
              "      <td>76998</td>\n",
              "      <td>1</td>\n",
              "    </tr>\n",
              "    <tr>\n",
              "      <th>1833</th>\n",
              "      <td>76999</td>\n",
              "      <td>1</td>\n",
              "    </tr>\n",
              "    <tr>\n",
              "      <th>1834</th>\n",
              "      <td>77198</td>\n",
              "      <td>1</td>\n",
              "    </tr>\n",
              "    <tr>\n",
              "      <th>1835</th>\n",
              "      <td>77207</td>\n",
              "      <td>1</td>\n",
              "    </tr>\n",
              "  </tbody>\n",
              "</table>\n",
              "</div>"
            ],
            "text/plain": [
              "      itemID  usersRated\n",
              "1831   76997           2\n",
              "1832   76998           1\n",
              "1833   76999           1\n",
              "1834   77198           1\n",
              "1835   77207           1"
            ]
          },
          "metadata": {
            "tags": []
          },
          "execution_count": 142
        }
      ]
    },
    {
      "metadata": {
        "id": "309UsfbdZgaL",
        "colab_type": "code",
        "colab": {
          "base_uri": "https://localhost:8080/",
          "height": 167
        },
        "outputId": "274832ed-5517-486b-aa1f-4e02c80b5c5e"
      },
      "cell_type": "code",
      "source": [
        "ser = pd.Series(train_file.groupby(['itemID']).size().reset_index(name='usersRated')['usersRated'].tolist())\n",
        "print(ser.describe())"
      ],
      "execution_count": 143,
      "outputs": [
        {
          "output_type": "stream",
          "text": [
            "count    1836.000000\n",
            "mean       24.156863\n",
            "std       113.849140\n",
            "min         1.000000\n",
            "25%         1.000000\n",
            "50%         2.000000\n",
            "75%         7.000000\n",
            "max      2205.000000\n",
            "dtype: float64\n"
          ],
          "name": "stdout"
        }
      ]
    },
    {
      "metadata": {
        "id": "FPigd7599OPn",
        "colab_type": "code",
        "colab": {
          "base_uri": "https://localhost:8080/",
          "height": 364
        },
        "outputId": "297ed4f3-1472-4ff6-96ec-bdf88a3e8a3c"
      },
      "cell_type": "code",
      "source": [
        "ser.plot.kde()"
      ],
      "execution_count": 144,
      "outputs": [
        {
          "output_type": "execute_result",
          "data": {
            "text/plain": [
              "<matplotlib.axes._subplots.AxesSubplot at 0x7f82e74072b0>"
            ]
          },
          "metadata": {
            "tags": []
          },
          "execution_count": 144
        },
        {
          "output_type": "display_data",
          "data": {
            "image/png": "[encoded data removed]",
            "text/plain": [
              "<matplotlib.figure.Figure at 0x7f82e747e5c0>"
            ]
          },
          "metadata": {
            "tags": []
          }
        }
      ]
    },
    {
      "metadata": {
        "id": "x_zEXwtf9NsF",
        "colab_type": "text"
      },
      "cell_type": "markdown",
      "source": [
        ""
      ]
    },
    {
      "metadata": {
        "id": "wSKHzoT9pJQB",
        "colab_type": "text"
      },
      "cell_type": "markdown",
      "source": [
        ""
      ]
    },
    {
      "metadata": {
        "id": "6eO4A-NJRCut",
        "colab_type": "code",
        "colab": {
          "base_uri": "https://localhost:8080/",
          "height": 377
        },
        "outputId": "54d22e5a-64e3-4f50-c77d-31038a2c0eb2"
      },
      "cell_type": "code",
      "source": [
        "train_file.plot.scatter('userID','itemID', s=1, c='red')"
      ],
      "execution_count": 11,
      "outputs": [
        {
          "output_type": "execute_result",
          "data": {
            "text/plain": [
              "<matplotlib.axes._subplots.AxesSubplot at 0x7f82eca3df98>"
            ]
          },
          "metadata": {
            "tags": []
          },
          "execution_count": 11
        },
        {
          "output_type": "display_data",
          "data": {
            "image/png": "[encoded data removed]",
            "text/plain": [
              "<matplotlib.figure.Figure at 0x7f82ec9cfda0>"
            ]
          },
          "metadata": {
            "tags": []
          }
        }
      ]
    }
  ]
}