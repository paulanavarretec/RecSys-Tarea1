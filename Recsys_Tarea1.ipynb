{
  "nbformat": 4,
  "nbformat_minor": 0,
  "metadata": {
    "colab": {
      "name": "Recsys-Tarea1.ipynb",
      "version": "0.3.2",
      "provenance": [],
      "collapsed_sections": [],
      "include_colab_link": true
    },
    "kernelspec": {
      "name": "python3",
      "display_name": "Python 3"
    }
  },
  "cells": [
    {
      "cell_type": "markdown",
      "metadata": {
        "id": "view-in-github",
        "colab_type": "text"
      },
      "source": [
        "[View in Colaboratory](https://colab.research.google.com/github/paulanavarretec/RecSys-Tarea1/blob/master/Recsys_Tarea1.ipynb)"
      ]
    },
    {
      "metadata": {
        "id": "R0sTe6X2lBmH",
        "colab_type": "code",
        "colab": {}
      },
      "cell_type": "code",
      "source": [
        ""
      ],
      "execution_count": 0,
      "outputs": []
    },
    {
      "metadata": {
        "id": "o8wMfE6dlY7i",
        "colab_type": "text"
      },
      "cell_type": "markdown",
      "source": [
        "# Recommender Algorithms for a Beer Selling platform\n",
        "\n",
        "\n",
        "---\n",
        "\n",
        "\n",
        "\n",
        "In this asisgnment I develop several Recommender algorithms and test their performance. I use pyreclab Python library, developed by IALab & SocVis from the Pontifical Catholic University of Chile.\n",
        "\n",
        "The algorithms developed ahead are:\n",
        "\n",
        "> UserKnn\n",
        "\n",
        "> ItemKnn\n",
        "\n",
        "> SlopeOne\n",
        "\n",
        "> SVD\n",
        "\n",
        "\n",
        "> ALS o ALScg: (este modelo lo puede usar para la tarea de ranking. Si tiene problemas con pyreclab, puede usar la biblioteca implicit1).\n",
        "\n",
        "\n",
        "\n",
        "\n",
        "## Paso 1: Descargue los siguientes tres archivos, siguiendo los links, a su computador local (u1.base, u1.test y u.item, respectivamente)\n",
        "\n",
        "\n",
        "---\n",
        "\n"
      ]
    },
    {
      "metadata": {
        "id": "mH3rcvKnlIpu",
        "colab_type": "code",
        "colab": {}
      },
      "cell_type": "code",
      "source": [
        ""
      ],
      "execution_count": 0,
      "outputs": []
    }
  ]
}