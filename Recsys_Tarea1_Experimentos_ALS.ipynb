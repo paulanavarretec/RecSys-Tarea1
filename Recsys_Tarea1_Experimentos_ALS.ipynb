{
  "nbformat": 4,
  "nbformat_minor": 0,
  "metadata": {
    "colab": {
      "name": "Recsys_Tarea1-Experimentos-ALS.ipynb",
      "version": "0.3.2",
      "provenance": [],
      "collapsed_sections": []
    },
    "kernelspec": {
      "display_name": "Python 3",
      "language": "python",
      "name": "python3"
    }
  },
  "cells": [
    {
      "metadata": {
        "id": "bq-RvBVVZztr",
        "colab_type": "text"
      },
      "cell_type": "markdown",
      "source": [
        "# Data Load"
      ]
    },
    {
      "metadata": {
        "id": "Jjvlp77KZ0Iz",
        "colab_type": "code",
        "colab": {
          "resources": {
            "http://localhost:8080/nbextensions/google.colab/files.js": {
              "data": "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",
              "ok": true,
              "headers": [
                [
                  "content-type",
                  "application/javascript"
                ]
              ],
              "status": 200,
              "status_text": ""
            }
          },
          "base_uri": "https://localhost:8080/",
          "height": 103
        },
        "outputId": "34b696c3-8122-495f-aef7-d022412ab82d"
      },
      "cell_type": "code",
      "source": [
        "#Run this cell. You must upload the files to be used to analyse: training_data.csv, test_rating_data.csv y ranking_users.txt\n",
        "from google.colab import files\n",
        "uploaded = files.upload()"
      ],
      "execution_count": 1,
      "outputs": [
        {
          "output_type": "display_data",
          "data": {
            "text/html": [
              "\n",
              "     <input type=\"file\" id=\"files-05b4a255-1e5e-4b13-9177-5875a4d73fac\" name=\"files[]\" multiple disabled />\n",
              "     <output id=\"result-05b4a255-1e5e-4b13-9177-5875a4d73fac\">\n",
              "      Upload widget is only available when the cell has been executed in the\n",
              "      current browser session. Please rerun this cell to enable.\n",
              "      </output>\n",
              "      <script src=\"/nbextensions/google.colab/files.js\"></script> "
            ],
            "text/plain": [
              "<IPython.core.display.HTML object>"
            ]
          },
          "metadata": {
            "tags": []
          }
        },
        {
          "output_type": "stream",
          "text": [
            "Saving train_30.csv to train_30 (3).csv\n",
            "Saving train_70.csv to train_70 (3).csv\n"
          ],
          "name": "stdout"
        }
      ]
    },
    {
      "metadata": {
        "id": "1HYHdNQXZuVm",
        "colab_type": "code",
        "colab": {}
      },
      "cell_type": "code",
      "source": [
        "import pandas as pd #Import library\n",
        "\n",
        "train_70 = pd.read_csv('train_70.csv',\n",
        "                         sep=',',\n",
        "                         names = ['obsNo','userID', 'itemID', 'styleID', 'rating','brewerID','timestamp'],\n",
        "                         header=0)\n",
        "train_30 = pd.read_csv('train_30.csv',\n",
        "                         sep=',',\n",
        "                         names = ['obsNo','userID', 'itemID', 'styleID', 'rating','brewerID','timestamp'],\n",
        "                         header=0)"
      ],
      "execution_count": 0,
      "outputs": []
    },
    {
      "metadata": {
        "id": "X844IFoYZ3uL",
        "colab_type": "code",
        "colab": {
          "base_uri": "https://localhost:8080/",
          "height": 221
        },
        "outputId": "a0d8289f-462d-4944-8fbb-97c7b3100332"
      },
      "cell_type": "code",
      "source": [
        "print(train_70.head())\n",
        "print(train_30.head())"
      ],
      "execution_count": 3,
      "outputs": [
        {
          "output_type": "stream",
          "text": [
            "       obsNo  userID  itemID  styleID  rating  brewerID   timestamp\n",
            "34361  34388     629    1018      263     4.5       263  1169360528\n",
            "20635  20644    5768   20470      394     3.0       394  1222029461\n",
            "13013  13022    1042   35036     1199     4.5      1199  1283618267\n",
            "3126    3126    5224    7348     1199     3.5      1199  1232323069\n",
            "20464  20473    4711   21822     1199     5.0      1199  1235738254\n",
            "    obsNo  userID  itemID  styleID  rating  brewerID   timestamp\n",
            "2       2    4924   19960     1199     5.0      1199  1223914717\n",
            "4       4    2916   57110    14879     4.0     14879  1279318326\n",
            "5       5    2916   21822     1199     4.0      1199  1292025037\n",
            "14     14    7749    7675     3268     4.5      3268  1125287650\n",
            "15     15    4136   11493     5313     1.5      5313  1211390912\n"
          ],
          "name": "stdout"
        }
      ]
    },
    {
      "metadata": {
        "id": "EuY0jzPlQvED",
        "colab_type": "code",
        "colab": {
          "base_uri": "https://localhost:8080/",
          "height": 34
        },
        "outputId": "799641c8-e3b0-4811-a361-53ff0960647c"
      },
      "cell_type": "code",
      "source": [
        "!pip install pyreclab\n",
        "import pyreclab\n",
        "import numpy as np"
      ],
      "execution_count": 4,
      "outputs": [
        {
          "output_type": "stream",
          "text": [
            "Requirement already satisfied: pyreclab in /usr/local/lib/python3.6/dist-packages (0.1.12)\n"
          ],
          "name": "stdout"
        }
      ]
    },
    {
      "metadata": {
        "id": "OfJWK9toanw6",
        "colab_type": "text"
      },
      "cell_type": "markdown",
      "source": [
        "# ALS"
      ]
    },
    {
      "metadata": {
        "id": "vysSYatFauBh",
        "colab_type": "code",
        "colab": {}
      },
      "cell_type": "code",
      "source": [
        "Als = pyreclab.IFAls(dataset='train_70.csv',\n",
        "                     dlmchar=b',',\n",
        "                     header=True,\n",
        "                     usercol=2,\n",
        "                     itemcol=3,\n",
        "                     observationcol=5)\n"
      ],
      "execution_count": 0,
      "outputs": []
    },
    {
      "metadata": {
        "id": "NSK6NHn2uaMG",
        "colab_type": "code",
        "colab": {}
      },
      "cell_type": "code",
      "source": [
        "Als.train(factors=25, alsNumIter=5, lambd=10)\n"
      ],
      "execution_count": 0,
      "outputs": []
    },
    {
      "metadata": {
        "id": "MDsPGlXIltN9",
        "colab_type": "code",
        "colab": {}
      },
      "cell_type": "code",
      "source": [
        "recommendationList25_5, map25_5, ndcg25_5 = Als.testrec( input_file='train_30.csv',\n",
        "                                                 dlmchar = b',',\n",
        "                                                 header = True,\n",
        "                                                 usercol = 2,\n",
        "                                                 itemcol = 3,\n",
        "                                                 ratingcol = 5,\n",
        "                                                 topn = 10,\n",
        "                                                 output_file = 'rankingAls.json',\n",
        "                                                 relevance_threshold = 2,\n",
        "                                                 includeRated = False )"
      ],
      "execution_count": 0,
      "outputs": []
    },
    {
      "metadata": {
        "id": "DzCSjcUQltOA",
        "colab_type": "code",
        "colab": {}
      },
      "cell_type": "code",
      "source": [
        "Als.train(factors=50, alsNumIter=5, lambd=10)\n"
      ],
      "execution_count": 0,
      "outputs": []
    },
    {
      "metadata": {
        "id": "oe_EqaycltOE",
        "colab_type": "code",
        "colab": {}
      },
      "cell_type": "code",
      "source": [
        "recommendationList50_5, map50_5, ndcg50_5 = Als.testrec( input_file='train_30.csv',\n",
        "                                                 dlmchar = b',',\n",
        "                                                 header = True,\n",
        "                                                 usercol = 2,\n",
        "                                                 itemcol = 3,\n",
        "                                                 ratingcol = 5,\n",
        "                                                 topn = 10,\n",
        "                                                 output_file = 'rankingAls.json',\n",
        "                                                 relevance_threshold = 2,\n",
        "                                                 includeRated = False )"
      ],
      "execution_count": 0,
      "outputs": []
    },
    {
      "metadata": {
        "id": "hgTHCkqZltOH",
        "colab_type": "code",
        "colab": {}
      },
      "cell_type": "code",
      "source": [
        "Als.train(factors=75, alsNumIter=5, lambd=10)\n"
      ],
      "execution_count": 0,
      "outputs": []
    },
    {
      "metadata": {
        "id": "yGkw2bVFltOJ",
        "colab_type": "code",
        "colab": {}
      },
      "cell_type": "code",
      "source": [
        "recommendationList75_5, map75_5, ndcg75_5 = Als.testrec( input_file='train_30.csv',\n",
        "                                                 dlmchar = b',',\n",
        "                                                 header = True,\n",
        "                                                 usercol = 2,\n",
        "                                                 itemcol = 3,\n",
        "                                                 ratingcol = 5,\n",
        "                                                 topn = 10,\n",
        "                                                 output_file = 'rankingAls.json',\n",
        "                                                 relevance_threshold = 2,\n",
        "                                                 includeRated = False )"
      ],
      "execution_count": 0,
      "outputs": []
    },
    {
      "metadata": {
        "id": "evQbiKcdltOM",
        "colab_type": "code",
        "colab": {}
      },
      "cell_type": "code",
      "source": [
        "Als.train(factors=25, alsNumIter=15, lambd=10)\n"
      ],
      "execution_count": 0,
      "outputs": []
    },
    {
      "metadata": {
        "id": "9Vj5yPbSltOS",
        "colab_type": "code",
        "colab": {}
      },
      "cell_type": "code",
      "source": [
        "recommendationList25_15, map25_15, ndcg25_15 = Als.testrec( input_file='train_30.csv',\n",
        "                                                 dlmchar = b',',\n",
        "                                                 header = True,\n",
        "                                                 usercol = 2,\n",
        "                                                 itemcol = 3,\n",
        "                                                 ratingcol = 5,\n",
        "                                                 topn = 10,\n",
        "                                                 output_file = 'rankingAls.json',\n",
        "                                                 relevance_threshold = 2,\n",
        "                                                 includeRated = False )"
      ],
      "execution_count": 0,
      "outputs": []
    },
    {
      "metadata": {
        "id": "9p2EH_I3ltOU",
        "colab_type": "code",
        "colab": {}
      },
      "cell_type": "code",
      "source": [
        "Als.train(factors=50, alsNumIter=15, lambd=10)\n"
      ],
      "execution_count": 0,
      "outputs": []
    },
    {
      "metadata": {
        "id": "zclFtlPxltOY",
        "colab_type": "code",
        "colab": {}
      },
      "cell_type": "code",
      "source": [
        "recommendationList50_15, map50_15, ndcg50_15 = Als.testrec( input_file='train_30.csv',\n",
        "                                                 dlmchar = b',',\n",
        "                                                 header = True,\n",
        "                                                 usercol = 2,\n",
        "                                                 itemcol = 3,\n",
        "                                                 ratingcol = 5,\n",
        "                                                 topn = 10,\n",
        "                                                 output_file = 'rankingAls.json',\n",
        "                                                 relevance_threshold = 2,\n",
        "                                                 includeRated = False )"
      ],
      "execution_count": 0,
      "outputs": []
    },
    {
      "metadata": {
        "id": "5OKMXzRIltOc",
        "colab_type": "code",
        "colab": {}
      },
      "cell_type": "code",
      "source": [
        "Als.train(factors=75, alsNumIter=15, lambd=10)"
      ],
      "execution_count": 0,
      "outputs": []
    },
    {
      "metadata": {
        "id": "DzK-4B39uaVG",
        "colab_type": "code",
        "colab": {}
      },
      "cell_type": "code",
      "source": [
        "recommendationList75_15, map75_15, ndcg75_15 = Als.testrec( input_file='train_30.csv',\n",
        "                                                 dlmchar = b',',\n",
        "                                                 header = True,\n",
        "                                                 usercol = 2,\n",
        "                                                 itemcol = 3,\n",
        "                                                 ratingcol = 5,\n",
        "                                                 topn = 10,\n",
        "                                                 output_file = 'rankingAls.json',\n",
        "                                                 relevance_threshold = 2,\n",
        "                                                 includeRated = False )\n"
      ],
      "execution_count": 0,
      "outputs": []
    },
    {
      "metadata": {
        "id": "uaEwHU4IvOB6",
        "colab_type": "code",
        "colab": {}
      },
      "cell_type": "code",
      "source": [
        "print('MAP@10 f:25 it:5 =',map25_5,'\\n MAP@10 f:50 it:5 =',map50_5,'\\n MAP@10 f:75 it:5 =',map75_5,'\\n MAP@10 f:25 it:15 =',map25_15,'\\n MAP@10 f:50 it:15 =',map50_15,'\\n MAP@10 f:75 it:15 =',map75_15)\n",
        "print('nDCG@10 f:25 it:5 =',ndcg25_5,'\\n nDCG@10 f:50 it:5 =',ndcg50_5,'\\n nDCG@10 f:75 it:5 =',ndcg75_5,'\\n nDCG@10 f:25 it:15 =',ndcg25_15,'\\n nDCG@10 f:50 it:15 =',ndcg50_15,'\\n nDCG@10 f:75 it:15 =',ndcg75_15)\n"
      ],
      "execution_count": 0,
      "outputs": []
    },
    {
      "metadata": {
        "id": "9hy2eIO592lr",
        "colab_type": "code",
        "colab": {}
      },
      "cell_type": "code",
      "source": [
        "l = ['25_5','50_5','75_5','25_15','50_15','75_15']\n",
        "mae = [mae25_5,mae50_5,mae75_5,mae25_15,mae50_15,mae75_15]\n",
        "rmse = [rmse25_5,rmse50_5,rmse75_5,rmse25_15,rmse50_15,rmse75_15]"
      ],
      "execution_count": 0,
      "outputs": []
    },
    {
      "metadata": {
        "id": "N02IutsZ9KUp",
        "colab_type": "code",
        "colab": {}
      },
      "cell_type": "code",
      "source": [
        "import matplotlib.pyplot as plt\n",
        "\n",
        "f1, (ax1) = plt.subplots(1,1,figsize=(8,8))\n",
        "ax1.plot(l,mae,'ro')\n",
        "ax1.plot(l,mae,'r-')\n",
        "ax1.set_xlabel('parameters',fontsize=14)\n",
        "ax1.set_ylabel('MAP@10',fontsize=14)\n",
        "ax1.set_title('')\n",
        "plt.xticks((1,2,3,4,5,6), ('$|f:25-it:5|$', '$|f:50-it:5|$', '$|f:75-it:5|$','$|f:25-it:15|$', '$|f:50-it:15|$', '$|f:75-it:15|$'), color='k')\n",
        "plt.show()\n",
        "f1.savefig('MAP10_SVD.png')\n"
      ],
      "execution_count": 0,
      "outputs": []
    },
    {
      "metadata": {
        "id": "oW-ccUTc-Yxx",
        "colab_type": "code",
        "colab": {}
      },
      "cell_type": "code",
      "source": [
        "f2, (ax2) = plt.subplots(1,1,figsize=(8,8))\n",
        "ax2.plot(l,rmse,'bo')\n",
        "ax2.plot(l,rmse,'b-')\n",
        "ax2.set_xlabel('parameters',fontsize=14)\n",
        "ax2.set_ylabel('nDCG@10',fontsize=14)\n",
        "ax2.set_title('')\n",
        "plt.xticks((1,2,3,4,5,6), ('$|f:25-it:5|$', '$|f:50-it:5|$', '$|f:75-it:5|$','$|f:25-it:15|$', '$|f:50-it:15|$', '$|f:75-it:15|$'), color='k')\n",
        "plt.show()\n",
        "f2.savefig('nDCG10_SVD.png')"
      ],
      "execution_count": 0,
      "outputs": []
    },
    {
      "metadata": {
        "id": "tP0m3ppr76_d",
        "colab_type": "text"
      },
      "cell_type": "markdown",
      "source": [
        "## Selected parameters:"
      ]
    },
    {
      "metadata": {
        "id": "tHOMOcbTr1gw",
        "colab_type": "code",
        "colab": {}
      },
      "cell_type": "code",
      "source": [
        "Als.train(factors=, alsNumIter=, lambd=10)"
      ],
      "execution_count": 0,
      "outputs": []
    },
    {
      "metadata": {
        "id": "sb3CRxAMrxUQ",
        "colab_type": "code",
        "colab": {}
      },
      "cell_type": "code",
      "source": [
        "recommendationList, map_, ndcg = Als.testrec( input_file='train_30.csv',\n",
        "                                                 dlmchar = b',',\n",
        "                                                 header = True,\n",
        "                                                 usercol = 2,\n",
        "                                                 itemcol = 3,\n",
        "                                                 ratingcol = 5,\n",
        "                                                 topn = 10,\n",
        "                                                 output_file = 'rankingAls.json',\n",
        "                                                 relevance_threshold = 2,\n",
        "                                                 includeRated = False )"
      ],
      "execution_count": 0,
      "outputs": []
    },
    {
      "metadata": {
        "id": "tKqfz1QqrZTW",
        "colab_type": "code",
        "colab": {}
      },
      "cell_type": "code",
      "source": [
        "print('MAP@10 =', map_)\n",
        "print('nDCG@10 =', ndcg)\n",
        "print('Recomendation list: \\n', recommendationList)"
      ],
      "execution_count": 0,
      "outputs": []
    },
    {
      "metadata": {
        "id": "W2vbyTQXoba5",
        "colab_type": "code",
        "colab": {}
      },
      "cell_type": "code",
      "source": [
        "!ls"
      ],
      "execution_count": 0,
      "outputs": []
    },
    {
      "metadata": {
        "id": "UnBNqCh_obl3",
        "colab_type": "code",
        "colab": {}
      },
      "cell_type": "code",
      "source": [
        "files.download('MAP10_Als.png')\n",
        "files.download('nDCG10_Als.png')\n",
        "files.download('predictionsAls25_5.csv')\n",
        "files.download('predictionsAls50_5.csv')\n",
        "files.download('predictionsAls75_5.csv')\n",
        "files.download('predictionsAls25_15.csv')\n",
        "files.download('predictionsAls50_15.csv')\n",
        "files.download('predictionsAls75_15.csv')\n",
        "files.download('rankingAls.json')"
      ],
      "execution_count": 0,
      "outputs": []
    }
  ]
}